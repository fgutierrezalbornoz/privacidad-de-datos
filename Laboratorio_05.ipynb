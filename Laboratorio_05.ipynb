{
  "cells": [
    {
      "cell_type": "markdown",
      "metadata": {
        "id": "XYTlAbZYQzAn"
      },
      "source": [
        "# CC5215: Privacidad de Datos\n",
        "\n",
        "## Laboratorio 5\n",
        "\n",
        "Integrantes:\n",
        "\n",
        "- Francisco Gutiérrez Albornoz"
      ]
    },
    {
      "cell_type": "code",
      "execution_count": 26,
      "metadata": {
        "id": "LkursIbWQzAp"
      },
      "outputs": [],
      "source": [
        "# Load the data and libraries\n",
        "import pandas as pd\n",
        "import numpy as np\n",
        "import random\n",
        "from scipy import stats\n",
        "import matplotlib.pyplot as plt\n",
        "plt.style.use('seaborn-v0_8-whitegrid')\n",
        "\n",
        "def laplace_mech(v, sensitivity, epsilon):\n",
        "    return v + np.random.laplace(loc=0, scale=sensitivity / epsilon)\n",
        "\n",
        "def pct_error(orig, priv):\n",
        "    return np.abs(orig - priv)/orig * 100.0\n",
        "\n",
        "adult = pd.read_csv('https://users.dcc.uchile.cl/~mtoro/cursos/cc5215/adult_with_pii.csv')"
      ]
    },
    {
      "cell_type": "markdown",
      "metadata": {
        "id": "Kbe4qCxORcZv"
      },
      "source": [
        "\n",
        "**Note**: this function (and the rest of the ones you'll define in this assignment) take a list of *query results* rather than the queries themselves (as we saw in class). This simplification makes your code a little bit simpler."
      ]
    },
    {
      "cell_type": "code",
      "execution_count": 27,
      "metadata": {
        "id": "lvWMM2aHQzAq"
      },
      "outputs": [],
      "source": [
        "# preserves epsilon-differential privacy\n",
        "def above_threshold(query_results, T, epsilon):\n",
        "    T_hat = T + np.random.laplace(loc=0, scale = 2/epsilon)\n",
        "\n",
        "    for idx, q in enumerate(query_results):\n",
        "        nu_i = np.random.laplace(loc=0, scale = 4/epsilon)\n",
        "        if q + nu_i >= T_hat:\n",
        "            return idx\n",
        "    return None"
      ]
    },
    {
      "cell_type": "markdown",
      "metadata": {
        "id": "HoCWd96U4H8a"
      },
      "source": [
        "## Question 1 (5 points)\n",
        "\n",
        "The code below defines a finite set of options for marital status. Define a scoring function that returns high scores for common marital statuses, and low scores for uncommon ones (e.g. the score could be the number of people with that status). Remember that your function should be 1-sensitive."
      ]
    },
    {
      "cell_type": "code",
      "execution_count": 28,
      "metadata": {
        "id": "HrnA2gtP4rFM"
      },
      "outputs": [
        {
          "data": {
            "text/plain": [
              "np.float64(10.683)"
            ]
          },
          "execution_count": 28,
          "metadata": {},
          "output_type": "execute_result"
        }
      ],
      "source": [
        "options = ['Never-married', 'Married-civ-spouse', 'Divorced',\n",
        "           'Married-spouse-absent', 'Separated', 'Married-AF-spouse',\n",
        "           'Widowed']\n",
        "\n",
        "def score(option):\n",
        "\n",
        "    return adult['Marital Status'].value_counts()[option]/1000\n",
        "\n",
        "score('Never-married')"
      ]
    },
    {
      "cell_type": "code",
      "execution_count": 29,
      "metadata": {
        "id": "1tcyjzq_4xt5"
      },
      "outputs": [],
      "source": [
        "assert score('Never-married') > score('Divorced')\n",
        "assert score('Never-married') > score('Widowed')\n",
        "assert score('Never-married') < score('Married-civ-spouse')\n",
        "assert score('Never-married') > score('Divorced')"
      ]
    },
    {
      "cell_type": "markdown",
      "metadata": {
        "id": "IK_83--f54Gx"
      },
      "source": [
        "## Question 2 (10 points)\n",
        "\n",
        "Implement `report_noisy_max` using the Laplace mechanism. `report_noisy_max` should return the value in a set that approximately maximizes the value of the score function. It should not return the score itself."
      ]
    },
    {
      "cell_type": "code",
      "execution_count": 30,
      "metadata": {
        "id": "Rhu1OPtu6EjF"
      },
      "outputs": [
        {
          "data": {
            "text/plain": [
              "'Married-civ-spouse'"
            ]
          },
          "execution_count": 30,
          "metadata": {},
          "output_type": "execute_result"
        }
      ],
      "source": [
        "def report_noisy_max(R, score, sensitivity, epsilon):\n",
        "    scores = [score(x) for x in R]\n",
        "    noisy_scores = [laplace_mech(s, sensitivity, epsilon) for s in scores]\n",
        "    max_idx = np.argmax(noisy_scores)\n",
        "    return R[max_idx]\n",
        "\n",
        "report_noisy_max(options, score, 1, 1)"
      ]
    },
    {
      "cell_type": "code",
      "execution_count": 31,
      "metadata": {
        "id": "Tkms8ibR6s0u"
      },
      "outputs": [],
      "source": [
        "assert report_noisy_max(options, score, 1, 1) == 'Married-civ-spouse'"
      ]
    },
    {
      "cell_type": "markdown",
      "metadata": {
        "id": "FRpn8lO0QzAq"
      },
      "source": [
        "## Question 3 (5 points)\n",
        "\n",
        "Implement a function `above_10000` that releases the **value** of the first query in a sequence of queries whose value is above 10000. Your function should have a **total** privacy cost equal to the privacy parameter $\\epsilon$ passed in when it is called."
      ]
    },
    {
      "cell_type": "code",
      "execution_count": 32,
      "metadata": {
        "deletable": false,
        "id": "TsU4Cu0hQzAr",
        "nbgrader": {
          "cell_type": "code",
          "checksum": "41882ba11d054eaea45d8fac363b9bc3",
          "grade": false,
          "grade_id": "cell-7d58af13aa2622cd",
          "locked": false,
          "schema_version": 3,
          "solution": true,
          "task": false
        }
      },
      "outputs": [
        {
          "name": "stdout",
          "output_type": "stream",
          "text": [
            "above_10000 #1: 14976\n",
            "above_10000 #2: 14976\n",
            "above_10000 #3: 14976\n"
          ]
        }
      ],
      "source": [
        "def above_10000(query_results, epsilon):\n",
        "    T_hat = 10000 + np.random.laplace(loc=0, scale=2/epsilon)\n",
        "    for idx, q in enumerate(query_results):\n",
        "        nu_i = np.random.laplace(loc=0, scale=4/epsilon)\n",
        "        if q + nu_i >= T_hat:\n",
        "            return query_results.iloc[idx]\n",
        "    return None\n",
        "\n",
        "queries = adult['Marital Status'].value_counts()\n",
        "print(f\"above_10000 #1: {above_10000(queries, 100)}\")\n",
        "print(f\"above_10000 #2: {above_10000(queries, 1)}\")\n",
        "print(f\"above_10000 #3: {above_10000(queries, .01)}\")"
      ]
    },
    {
      "cell_type": "code",
      "execution_count": 33,
      "metadata": {
        "colab": {
          "base_uri": "https://localhost:8080/"
        },
        "deletable": false,
        "editable": false,
        "id": "2Gq4JHeBQzAr",
        "nbgrader": {
          "cell_type": "code",
          "checksum": "9bbb2f261521950cc9bebb0d61c6e95f",
          "grade": true,
          "grade_id": "cell-1cf50100348edbd6",
          "locked": true,
          "points": 20,
          "schema_version": 3,
          "solution": false,
          "task": false
        },
        "outputId": "fa5618ac-91b7-4dda-dd81-b20c5150264c"
      },
      "outputs": [
        {
          "name": "stdout",
          "output_type": "stream",
          "text": [
            "14976.0\n"
          ]
        }
      ],
      "source": [
        "# TEST CASE\n",
        "\n",
        "results = [above_10000(queries, 1.0) for _ in range(20)]\n",
        "print(np.mean(results))\n",
        "assert np.mean(results) > 14900\n",
        "assert np.mean(results) < 15000"
      ]
    },
    {
      "cell_type": "markdown",
      "metadata": {
        "id": "2G1S_nMOQzAr"
      },
      "source": [
        "## Question 4 (5 points)\n",
        "In 2-3 sentences, argue informally that your implementation of `above_10000` has a total privacy cost of $\\epsilon$."
      ]
    },
    {
      "cell_type": "markdown",
      "metadata": {
        "deletable": false,
        "id": "VWsykuzaQzAr",
        "nbgrader": {
          "cell_type": "markdown",
          "checksum": "e11d35bbb38ffaa2580254c9e17aff9b",
          "grade": true,
          "grade_id": "cell-3d70d4d8ee9868e9",
          "locked": false,
          "points": 10,
          "schema_version": 3,
          "solution": true,
          "task": false
        }
      },
      "source": [
        "*Respuesta*: En clases no se ahondó en la demostración de esto pero se utiliza `epsilon / 2` en fijar un threshold (ruidoso). Luego, se compara el umbral con cada query lo que tiene un coste de `epsilon / 4`, en el peor caso para `n` queries se tiene `n * epsilon / 4` (por composición secuencial). Está demostrado que este algoritmo es `epsilon-DP` (pero no se vio a detalle)."
      ]
    },
    {
      "cell_type": "markdown",
      "metadata": {
        "id": "xpk9-r_RQzAr"
      },
      "source": [
        "## Question 5 (10 points)\n",
        "\n",
        "Implement a function `bounded_all_above_10000` that releases the **value** of **$c$ queries** in a sequence of queries whose value is above 10000 (where $c$ is an analyst-provided parameter limiting the number of returned results). Your function should have a **total privacy cost** bounded by its parameter $\\epsilon$."
      ]
    },
    {
      "cell_type": "code",
      "execution_count": 38,
      "metadata": {
        "deletable": false,
        "id": "XrGxy2eqQzAr",
        "nbgrader": {
          "cell_type": "code",
          "checksum": "91bb37e0406efa6d04ea75bc4054530f",
          "grade": false,
          "grade_id": "cell-b0f7fdabc28e37df",
          "locked": false,
          "schema_version": 3,
          "solution": true,
          "task": false
        }
      },
      "outputs": [
        {
          "name": "stdout",
          "output_type": "stream",
          "text": [
            "bounded_all_above_10000 #1: [14976, 10683]\n",
            "bounded_all_above_10000 #2: [14976, 10683]\n",
            "bounded_all_above_10000 #3: [14976]\n"
          ]
        }
      ],
      "source": [
        "def bounded_all_above_10000(query_results, c, epsilon):\n",
        "    def index_above_10000(query_results, epsilon):\n",
        "        T_hat = 10000 + np.random.laplace(loc=0, scale=2/epsilon)\n",
        "        for idx, q in enumerate(query_results):\n",
        "            nu_i = np.random.laplace(loc=0, scale=4/epsilon)\n",
        "            if q + nu_i >= T_hat:\n",
        "                return idx\n",
        "        return None\n",
        "    idxs = []\n",
        "    pos = 0\n",
        "    epsilon_i = epsilon / c\n",
        "    while pos < len(query_results) and len(idxs) < c:\n",
        "        next_idx = index_above_10000(query_results[pos:], epsilon_i)\n",
        "        if next_idx == None:\n",
        "            return [query_results[i] for i in idxs]\n",
        "        pos = next_idx + pos\n",
        "        idxs.append(pos)\n",
        "        pos += 1\n",
        "    return [query_results[i] for i in idxs]\n",
        "\n",
        "queries = list(adult['Marital Status'].value_counts())\n",
        "print(f\"bounded_all_above_10000 #1: {bounded_all_above_10000(queries, 3, 100)}\")\n",
        "print(f\"bounded_all_above_10000 #2: {bounded_all_above_10000(queries, 3, 1)}\")\n",
        "print(f\"bounded_all_above_10000 #3: {bounded_all_above_10000(queries, 3, .01)}\")"
      ]
    },
    {
      "cell_type": "code",
      "execution_count": 39,
      "metadata": {
        "deletable": false,
        "editable": false,
        "id": "OQbB7xIMQzAr",
        "nbgrader": {
          "cell_type": "code",
          "checksum": "7d81c9578ff7d4b31f8970c0d389542a",
          "grade": true,
          "grade_id": "cell-c27f3306db2df4fa",
          "locked": true,
          "points": 20,
          "schema_version": 3,
          "solution": false,
          "task": false
        }
      },
      "outputs": [],
      "source": [
        "# TEST CASE\n",
        "\n",
        "results = [bounded_all_above_10000(queries, 2, 1.0)]\n",
        "results_1 = [r[0] for r in results]\n",
        "results_2 = [r[1] for r in results]\n",
        "\n",
        "assert np.mean(results_1) > 14900\n",
        "assert np.mean(results_1) < 15000\n",
        "assert np.mean(results_2) > 10600\n",
        "assert np.mean(results_2) < 10700"
      ]
    },
    {
      "cell_type": "markdown",
      "metadata": {
        "id": "tizu2usFQzAs"
      },
      "source": [
        "## Question 6 (5 points)\n",
        "\n",
        "In 2-3 sentences, argue informally that your implementation of `bounded_all_above_10000` has privacy cost bounded by $\\epsilon$."
      ]
    },
    {
      "cell_type": "markdown",
      "metadata": {
        "deletable": false,
        "id": "dGonLRr7QzAs",
        "nbgrader": {
          "cell_type": "markdown",
          "checksum": "cc65750898401dd68f5895f4a558d1dd",
          "grade": true,
          "grade_id": "cell-0908f5d27b9661e6",
          "locked": false,
          "points": 10,
          "schema_version": 3,
          "solution": true,
          "task": false
        }
      },
      "source": [
        "*Respuesta*: Cada invocación para encontrar una query que cumple con el threshold se utiliza `epsilon / c` como se buscan `c` queries que cumplan con el threshold, por composición secuencial se utiliza a lo más `epsilon` (es a lo más ya que podrían haber menos de `c` queries que lo cumplan)."
      ]
    },
    {
      "cell_type": "markdown",
      "metadata": {
        "id": "ggjDDZKwQzAs"
      },
      "source": [
        "## Question 7 (15 points)\n",
        "\n",
        "Implement a function `mean_age` that computes the mean age of participants in the `adult_data` dataset. Your function should have a **total** privacy cost of $\\epsilon$. It should work as follows:\n",
        "\n",
        "1. Compute an *upper* clipping parameter based on the data\n",
        "2. Clip the data using the clipping parameter\n",
        "3. Use `laplace_mech` to release a differentially private mean of the clipped data\n",
        "\n",
        "*Hint*: Use the sparse vector technique (`above_threshold`) to compute the clipping parameter. Consider using a sequence of queries that looks like `df.clip(lower=b, upper=0).sum() - df.clip(lower=b+1, upper=0).sum()`.\n",
        "\n",
        "*Hint*: Be careful of sensitivities and set the scale of the noise accordingly!"
      ]
    },
    {
      "cell_type": "code",
      "execution_count": 40,
      "metadata": {
        "deletable": false,
        "id": "N14xsrYGQzAs",
        "nbgrader": {
          "cell_type": "code",
          "checksum": "987bb7ee607f2971d03d94ec11aa137b",
          "grade": false,
          "grade_id": "cell-fefcc1a8cd056ff5",
          "locked": false,
          "schema_version": 3,
          "solution": true,
          "task": false
        }
      },
      "outputs": [
        {
          "name": "stdout",
          "output_type": "stream",
          "text": [
            "epsilon: 0.001, mean age: 21.259463062853786\n",
            "epsilon: 0.01, mean age: 40.44376037039085\n",
            "epsilon: 0.1, mean age: 38.47423904109511\n",
            "epsilon: 0.5, mean age: 38.60297598478245\n",
            "epsilon: 1, mean age: 38.58358623161321\n",
            "epsilon: 10, mean age: 38.58341987136645\n"
          ]
        }
      ],
      "source": [
        "bs = list(range(0, 200, 10))\n",
        "df = adult['Age']\n",
        "\n",
        "def mean_age(epsilon):\n",
        "    def create_query(b):\n",
        "        return lambda df: df.clip(lower=0, upper=b).sum() - df.clip(lower=0, upper=b + 1).sum()\n",
        "    def above_threshold(queries, df, T, epsilon):\n",
        "        T_hat = T + np.random.laplace(loc=0, scale=2/epsilon)\n",
        "        for idx, q in enumerate(queries):\n",
        "            nu_i = np.random.laplace(loc=0, scale=4/epsilon)\n",
        "            if q(df) + nu_i >= T_hat:\n",
        "                return idx\n",
        "        return None\n",
        "    queries_age = [create_query(b) for b in bs]\n",
        "    epsilon_svt = epsilon / 3\n",
        "    final_b = bs[above_threshold(queries_age, df, 0, epsilon_svt)]\n",
        "\n",
        "    epsilon_sum = epsilon / 3\n",
        "    epsilon_count = epsilon / 3\n",
        "\n",
        "    noisy_sum = laplace_mech(df.clip(lower=0, upper=final_b).sum(), final_b, epsilon_sum)\n",
        "    noisy_count = laplace_mech(len(df), 1, epsilon_count)\n",
        "    return noisy_sum / noisy_count\n",
        "\n",
        "for epsilon in [0.001, 0.01, 0.1, 0.5, 1, 10]:\n",
        "    print(f\"epsilon: {epsilon}, mean age: {mean_age(epsilon)}\")"
      ]
    },
    {
      "cell_type": "code",
      "execution_count": 41,
      "metadata": {
        "deletable": false,
        "editable": false,
        "id": "vjzSw5oZQzAs",
        "nbgrader": {
          "cell_type": "code",
          "checksum": "541b1bf16c7cc220f8b904d1a7e72f61",
          "grade": true,
          "grade_id": "cell-efca6bec52b4b3cc",
          "locked": true,
          "points": 30,
          "schema_version": 3,
          "solution": false,
          "task": false
        }
      },
      "outputs": [],
      "source": [
        "# TEST CASE\n",
        "results = [mean_age(1.0) for _ in range(20)]\n",
        "assert np.mean(results) > 38\n",
        "assert np.mean(results) < 39"
      ]
    },
    {
      "cell_type": "markdown",
      "metadata": {
        "id": "kRoEt39TQzAs"
      },
      "source": [
        "## Question 8 (5 points)\n",
        "\n",
        "In 3-5 sentences, describe your approach to implementing `mean_age` and argue informally that your implementation has privacy cost bounded by $\\epsilon$."
      ]
    },
    {
      "cell_type": "markdown",
      "metadata": {
        "deletable": false,
        "id": "GfNhA2QiQzAs",
        "nbgrader": {
          "cell_type": "markdown",
          "checksum": "b00630bcb6f9db9d1b209913af83dc6c",
          "grade": true,
          "grade_id": "cell-c96a07678fe837cb",
          "locked": false,
          "points": 10,
          "schema_version": 3,
          "solution": true,
          "task": false
        }
      },
      "source": [
        "*Respuesta*: Seguí casi exactamente lo que se hizo en clases, se crean queries que sean 1-sensitiva (esto se consigue con la resta). Luego, se utiliza `epsilon / 3` para encontrar el parámetro de clipping `b` adecuado utilizando SVT mediante la función `above_threshold`. Finalmente, se calcula suma y conteo con ruido en donde para cada una se utiliza `epsilon / 3` y por composición secuencial se tiene que es `epsilon-DP`.  "
      ]
    }
  ],
  "metadata": {
    "colab": {
      "provenance": []
    },
    "kernelspec": {
      "display_name": "cc5215",
      "language": "python",
      "name": "python3"
    },
    "language_info": {
      "codemirror_mode": {
        "name": "ipython",
        "version": 3
      },
      "file_extension": ".py",
      "mimetype": "text/x-python",
      "name": "python",
      "nbconvert_exporter": "python",
      "pygments_lexer": "ipython3",
      "version": "3.13.2"
    }
  },
  "nbformat": 4,
  "nbformat_minor": 0
}
