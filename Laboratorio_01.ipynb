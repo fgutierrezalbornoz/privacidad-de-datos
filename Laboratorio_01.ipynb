{
  "cells": [
    {
      "cell_type": "markdown",
      "metadata": {
        "id": "PkEd2oMKbr5F"
      },
      "source": [
        "# CC5215: Privacidad de Datos\n",
        "## Laboratorio 1"
      ]
    },
    {
      "cell_type": "code",
      "execution_count": 1,
      "metadata": {
        "id": "kF7CWnq-br5G"
      },
      "outputs": [],
      "source": [
        "# Load the data and libraries\n",
        "import pandas as pd\n",
        "import numpy as np\n",
        "\n",
        "adult = pd.read_csv('https://users.dcc.uchile.cl/~mtoro/cursos/cc5215/adult_with_pii.csv')\n",
        "\n",
        "# Dataset with private information\n",
        "adult_pii = adult[['Name', 'DOB', 'SSN', 'Zip', 'Age']]\n",
        "# Deanonimized dataset\n",
        "adult_deid = adult.drop(columns=['Name', 'SSN'])"
      ]
    },
    {
      "cell_type": "markdown",
      "metadata": {
        "id": "ARKg5ADFbr5G"
      },
      "source": [
        "## Question 1 (5 points)\n",
        "\n",
        "Using the dataframes `adult_pii` and `adult_deid`, write code to conduct a linking attack to recover the names of as many individuals in `adult_deid` as possible. Your solution should be parameterized by the set of columns to use in the attack."
      ]
    },
    {
      "cell_type": "code",
      "execution_count": 2,
      "metadata": {
        "deletable": false,
        "id": "PwqVW8jjbr5H",
        "nbgrader": {
          "cell_type": "code",
          "checksum": "104cae26868ad3192fa4559d42c5a9bc",
          "grade": false,
          "grade_id": "cell-e6389ceace711c32",
          "locked": false,
          "schema_version": 3,
          "solution": true,
          "task": false
        }
      },
      "outputs": [],
      "source": [
        "def linking_attack(cols):\n",
        "    cols.append('Name')\n",
        "    return adult_deid.merge(pd.DataFrame({col: adult_pii[col] for col in cols}), how='left')['Name']"
      ]
    },
    {
      "cell_type": "code",
      "execution_count": 3,
      "metadata": {
        "deletable": false,
        "editable": false,
        "id": "Ih43byoAbr5H",
        "nbgrader": {
          "cell_type": "code",
          "checksum": "a76869307e0cddfa2304385041c0d3af",
          "grade": true,
          "grade_id": "cell-251b9f1c6f7b4630",
          "locked": true,
          "points": 20,
          "schema_version": 3,
          "solution": false,
          "task": false
        }
      },
      "outputs": [],
      "source": [
        "# TEST CASES for Question 1\n",
        "\n",
        "assert len(linking_attack(['Zip'])) == 43191\n",
        "assert len(linking_attack(['Zip', 'DOB'])) == 32563\n",
        "assert len(linking_attack(['Zip', 'Age'])) == 32755"
      ]
    },
    {
      "cell_type": "markdown",
      "metadata": {
        "id": "UNbJbOqtbr5H"
      },
      "source": [
        "## Question 2 (5 points)\n",
        "\n",
        "How many individuals in this dataset are uniquely identified by their Zip code? How many are uniquely identified by their age?\n",
        "\n",
        "Hint: note that the number of *unique ZIP codes* is **different** from the number of *individuals uniquely identified by ZIP code*.\n",
        "\n",
        "Hint: you can use the `value_counts` method (and its `subset` parameter) to count the number of occurences of each value in a series."
      ]
    },
    {
      "cell_type": "code",
      "execution_count": 4,
      "metadata": {
        "deletable": false,
        "id": "Ih5TJCuNbr5H",
        "nbgrader": {
          "cell_type": "code",
          "checksum": "9733ff7d940158fb81a39ca36af422e7",
          "grade": false,
          "grade_id": "cell-0e380ac68dd0c77e",
          "locked": false,
          "schema_version": 3,
          "solution": true,
          "task": false
        }
      },
      "outputs": [],
      "source": [
        "def unique_zipcode():\n",
        "    return len(adult_deid[~adult_deid['Zip'].duplicated(keep=False)])\n",
        "\n",
        "def unique_dob():\n",
        "    return len(adult_deid[~adult_deid['DOB'].duplicated(keep=False)])"
      ]
    },
    {
      "cell_type": "code",
      "execution_count": 5,
      "metadata": {
        "deletable": false,
        "editable": false,
        "id": "RQ9q4qZabr5I",
        "nbgrader": {
          "cell_type": "code",
          "checksum": "421e414115ab089d6098fe0ea29dcfa0",
          "grade": true,
          "grade_id": "cell-9b009427c61dbb2b",
          "locked": true,
          "points": 5,
          "schema_version": 3,
          "solution": false,
          "task": false
        }
      },
      "outputs": [],
      "source": [
        "# TEST CASES for Question 2\n",
        "\n",
        "assert unique_zipcode() == 23513\n",
        "assert unique_dob() == 7845"
      ]
    },
    {
      "cell_type": "markdown",
      "metadata": {
        "id": "x5eUUkVNbr5I"
      },
      "source": [
        "## Question 3 (10 points)\n",
        "\n",
        "Write code to determine the `Education-Num` of the individual named Ardyce Golby by performing a differencing attack. Your code should *only* use aggregate data to find Ardyce's education number."
      ]
    },
    {
      "cell_type": "code",
      "execution_count": 6,
      "metadata": {
        "deletable": false,
        "id": "2S_SzmKobr5I",
        "nbgrader": {
          "cell_type": "code",
          "checksum": "8df97903495b1e9b1994064fef277bdd",
          "grade": false,
          "grade_id": "cell-ef28e136429ae8c2",
          "locked": false,
          "schema_version": 3,
          "solution": true,
          "task": false
        }
      },
      "outputs": [],
      "source": [
        "def ardyce_education():\n",
        "    adult_join = adult_deid.merge(adult_pii, how='left')\n",
        "    totalSum = adult_join['Education-Num'].sum()\n",
        "    sumWithoutArdyce = adult_join[adult_join['Name']!='Ardyce Golby']['Education-Num'].sum()\n",
        "    return totalSum - sumWithoutArdyce"
      ]
    },
    {
      "cell_type": "code",
      "execution_count": 7,
      "metadata": {
        "deletable": false,
        "editable": false,
        "id": "WKakOJPqbr5I",
        "nbgrader": {
          "cell_type": "code",
          "checksum": "8da4b59a750fee877ac13ca81e692791",
          "grade": true,
          "grade_id": "cell-d06fb722893a39a5",
          "locked": true,
          "points": 10,
          "schema_version": 3,
          "solution": false,
          "task": false
        }
      },
      "outputs": [],
      "source": [
        "# TEST CASE for Question 3\n",
        "assert ardyce_education() == 12"
      ]
    },
    {
      "cell_type": "markdown",
      "metadata": {
        "id": "HZOA2oqEbr5I"
      },
      "source": [
        "## Question 4 (15 points)\n",
        "\n",
        "Implement a more efficient version of `is_k_anonymous`. The inefficient implementation, taken from the textbook, appears below.\n",
        "\n",
        "**Hint**: use the [`value_counts`](https://pandas.pydata.org/pandas-docs/stable/reference/api/pandas.Series.value_counts.html) or `group_by` functions, and make sure no count is less than $k$."
      ]
    },
    {
      "cell_type": "code",
      "execution_count": 8,
      "metadata": {
        "id": "mI3Nnl_fbr5J"
      },
      "outputs": [],
      "source": [
        "# Checking for k-Anonymity, taken from the textbook\n",
        "# def is_k_anonymous(k, qis, df):\n",
        "#     for index, row in df.iterrows():\n",
        "#         query = ' & '.join([f'{col} == {row[col]}' for col in qis])\n",
        "#         rows = df.query(query)\n",
        "#         if (rows.shape[0] < k):\n",
        "#             return False\n",
        "#     return True"
      ]
    },
    {
      "cell_type": "code",
      "execution_count": 9,
      "metadata": {
        "deletable": false,
        "id": "Sw33sBSqbr5J",
        "nbgrader": {
          "cell_type": "code",
          "checksum": "f5188941c720ac0d62843425a9f6e924",
          "grade": false,
          "grade_id": "cell-41bce010b027856e",
          "locked": false,
          "schema_version": 3,
          "solution": true,
          "task": false
        }
      },
      "outputs": [],
      "source": [
        "# Checking for k-anonymity more efficiently\n",
        "def is_k_anonymous(k, qis, df): \n",
        "    for counter in df[qis].groupby(qis).value_counts():\n",
        "        if (counter < k):\n",
        "            return False\n",
        "    return True"
      ]
    },
    {
      "cell_type": "code",
      "execution_count": 10,
      "metadata": {
        "deletable": false,
        "editable": false,
        "id": "Jz3ZwwZfbr5J",
        "nbgrader": {
          "cell_type": "code",
          "checksum": "faa260f295be78335faed2bddc5bc608",
          "grade": true,
          "grade_id": "cell-3d5fd22faf4dd36c",
          "locked": true,
          "points": 20,
          "schema_version": 3,
          "solution": false,
          "task": false
        }
      },
      "outputs": [],
      "source": [
        "# TEST CASES for question 4\n",
        "\n",
        "assert not is_k_anonymous(2, ['Age'], adult)\n",
        "assert is_k_anonymous(1, ['Age'], adult)\n",
        "assert is_k_anonymous(1, ['Age', 'Occupation'], adult)"
      ]
    },
    {
      "cell_type": "markdown",
      "metadata": {
        "id": "8pcIuN7ebr5J"
      },
      "source": [
        "## Question 5 (10 points)\n",
        "\n",
        "Implement a `generalize` function that takes a dataframe `df` and a dictionary `depths` that describes how much to generalize each column of `df`. Generalizing a column to a depth of $n$ replaces the $n$ least-significant digits of each number in that column by zeroes. For example, we could generalize column `A` by making its least-significant digit a 0 and column `B` by doing the same for 2 digits with the following depth specification:"
      ]
    },
    {
      "cell_type": "code",
      "execution_count": 11,
      "metadata": {
        "id": "6biE1Dtzbr5J"
      },
      "outputs": [],
      "source": [
        "depths = {\n",
        "    'A': 2,\n",
        "    'B': 1\n",
        "}"
      ]
    },
    {
      "cell_type": "code",
      "execution_count": 12,
      "metadata": {
        "id": "6nY7s8u2br5J"
      },
      "outputs": [],
      "source": [
        "def generalize(df, depths):\n",
        "    dfcopy = df.copy()\n",
        "    for key in depths:\n",
        "        dfcopy[key] = dfcopy[key]//10**depths[key]*10**depths[key]\n",
        "    return dfcopy"
      ]
    },
    {
      "cell_type": "markdown",
      "metadata": {
        "id": "6tdZmIGPbr5J"
      },
      "source": [
        "The result of generalizing the age by depth of 1 should satisfy k-anonimity for $k = 20$:"
      ]
    },
    {
      "cell_type": "code",
      "execution_count": 13,
      "metadata": {
        "deletable": false,
        "id": "nVGB5372br5J",
        "nbgrader": {
          "cell_type": "code",
          "checksum": "0f2a979204fce7f13427fa214f970114",
          "grade": false,
          "grade_id": "cell-ebd030727b205883",
          "locked": false,
          "schema_version": 3,
          "solution": true,
          "task": false
        }
      },
      "outputs": [],
      "source": [
        "# Test case for question 5\n",
        "\n",
        "def generalize_adult_age():\n",
        "    depths = {\n",
        "        'Age': 1,\n",
        "    }\n",
        "\n",
        "    return generalize(adult[['Age']], depths)\n",
        "\n",
        "assert is_k_anonymous(20, ['Age'], generalize_adult_age())"
      ]
    },
    {
      "cell_type": "markdown",
      "metadata": {
        "id": "lL03wJibbr5K"
      },
      "source": [
        "## Question 6 (5 points)\n",
        "\n",
        "Using the `generalize` function, generalize the `Age` and `Zip` columns of the `adult` dataset in order to achieve $k$-Anonymity for $k=5$. Your result should drop other columns besides these two."
      ]
    },
    {
      "cell_type": "code",
      "execution_count": 14,
      "metadata": {},
      "outputs": [],
      "source": [
        "def generalize_adult_age_zip():\n",
        "    depths = {\n",
        "        'Age': 2,\n",
        "        'Zip': 2,\n",
        "    }\n",
        "\n",
        "    return generalize(adult[['Age', 'Zip']], depths)\n",
        "\n",
        "assert is_k_anonymous(5, ['Age', 'Zip'], generalize_adult_age_zip())"
      ]
    },
    {
      "cell_type": "code",
      "execution_count": 15,
      "metadata": {
        "deletable": false,
        "id": "y0WWGK4vbr5K",
        "nbgrader": {
          "cell_type": "code",
          "checksum": "712fd768a6e5c6a1c0072becd1d8cecd",
          "grade": false,
          "grade_id": "cell-2a5ad51eb81f11c9",
          "locked": false,
          "schema_version": 3,
          "solution": true,
          "task": false
        }
      },
      "outputs": [],
      "source": [
        "def generalize_adult_age_zip():\n",
        "    depths = {\n",
        "        'Age': 1,\n",
        "        'Zip': 5,\n",
        "    }\n",
        "\n",
        "    return generalize(adult[['Age', 'Zip']], depths)\n",
        "\n",
        "assert is_k_anonymous(5, ['Age', 'Zip'], generalize_adult_age_zip())"
      ]
    },
    {
      "cell_type": "markdown",
      "metadata": {
        "id": "bmLHVrg_br5K"
      },
      "source": [
        "## Question 7 (10 points)\n",
        "\n",
        "In 1-4 sentences each, answer the following:\n",
        "\n",
        "1. How much generalization was required to achieve $k=5$ in question 6?\n",
        "2. Does this level of generalization significantly impact the utility of the $k$-Anonymized data? Why or why not?\n",
        "3. Is there another approach, in addition to our simple generalization method, that might work better?\n",
        "4. What is a simple method for generalizing the `Occupation` column?"
      ]
    },
    {
      "cell_type": "markdown",
      "metadata": {
        "id": "WQp08ccybr5K"
      },
      "source": [
        "Your answer here:\n",
        "\n",
        "1. Encontré dos generalizaciones que permitieron lograr lo pedido uno es generalizar \"Age\" con profundidad 1 y \"Zip\" con profundidad 5. La segunda opción fue \"Age\": 2 y \"Zip\": 2. Ya que con valores menores se tenía un $k$-anonimato para $k=1$.\n",
        "2. Estas generalizaciones impactaron en gran manera a la información que cada atributo representaba. Por ejemplo con la primera generalización mencionada en el punto anterior, la información de \"Zip\" se pierde totalmente y en la segunda ocurre lo mismo para \"Age\". Lo anterior ocurre ya que con valores menores se sigue teniendo un par de filas que pueden ser individualizadas.\n",
        "3. Se podrían simplemente eliminar estos datos que siguen forzando la 1-anonimización por ejemplo para \"Age\" : 1 y \"Zip\" : 4 hay 2 filas del dataframe (outliers) que pueden ser invidualizadas y se eliminan, se podría tener algo de información acerca del \"Zip\" ya que no serían todos los valores iguales a cero.\n",
        "4. Se podría utilizar árboles de taxonomía y con él clasificar las ocupaciones por área. En aquellas que sea necesario se podría separar cada rama en más ramas siempre y cuando permitan la generalización (no crear más ramas de las necesarias)."
      ]
    }
  ],
  "metadata": {
    "colab": {
      "provenance": []
    },
    "kernelspec": {
      "display_name": "cc5215",
      "language": "python",
      "name": "python3"
    },
    "language_info": {
      "codemirror_mode": {
        "name": "ipython",
        "version": 3
      },
      "file_extension": ".py",
      "mimetype": "text/x-python",
      "name": "python",
      "nbconvert_exporter": "python",
      "pygments_lexer": "ipython3",
      "version": "3.13.2"
    }
  },
  "nbformat": 4,
  "nbformat_minor": 0
}
