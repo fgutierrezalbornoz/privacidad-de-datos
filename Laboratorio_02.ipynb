{
  "cells": [
    {
      "cell_type": "markdown",
      "metadata": {
        "id": "cM6Hzfhq67rR"
      },
      "source": [
        "# CC5215: Privacidad de Datos\n",
        "## Laboratorio 2\n",
        "\n",
        "**Integrantes**\n",
        "- Francisco Gutiérrez Albornoz"
      ]
    },
    {
      "cell_type": "code",
      "execution_count": 298,
      "metadata": {
        "id": "kOx5ewlX67rT"
      },
      "outputs": [],
      "source": [
        "# Load the data and libraries\n",
        "import pandas as pd\n",
        "import numpy as np\n",
        "\n",
        "adult = pd.read_csv('https://users.dcc.uchile.cl/~mtoro/cursos/cc5215/adult_with_pii.csv')\n",
        "\n",
        "# Dataset with private information\n",
        "adult_pii = adult[['Name', 'DOB', 'SSN', 'Zip', 'Age']]\n",
        "# Deanonimized dataset\n",
        "adult_deid = adult[['DOB', 'Zip', 'Age', 'Target']].dropna(subset=['Target'])\n",
        "\n",
        "# quasi-identifiers\n",
        "qis = ['Age', 'Zip']"
      ]
    },
    {
      "cell_type": "markdown",
      "metadata": {
        "id": "HR7-0OtGdwQA"
      },
      "source": [
        "In the previous lab, in order to achieve 5-anonimity for the dataset `adult_deid` we had to essentially either get rid of the column 'Age' or 'Zip'. This was due to the presence of outliers which, no matter how much we generalized before losing a column, they were always distinguishable from the rest of the dataset.\n",
        "\n",
        "In this laboratory, we will use other mechanisms of generalization and anonimization of the dataset in order to achieve a certain level of $k$-anonimity without having to get rid of entire columns. Additionally, we will aim to also satisfy some level of $l$-diversity.\n",
        "\n",
        "We will only work with the dataset `adult_deid` and measure $l$-diversity for the column 'Target'."
      ]
    },
    {
      "cell_type": "markdown",
      "metadata": {
        "id": "DpKmXNnQFsOb"
      },
      "source": [
        "## Question 1 (10 points)\n",
        "\n",
        "In the previous lab you defined a `generalize` function to mask the less-significant digits of a numeric column. Whereas it may be intuitive to generalize the column 'Zip' using this method, it is not so obvious for the column 'Age' (we only have two options: intervals of 10 or 100!). We have renamed the function `generalize` to `mask_with_zeros` and re-defined it to operate on the whole dataset.\n",
        "\n",
        "Define a function `generalize_by_intervals` that converts a numeric column in its interval counterpart. This function should be parametrized by the size of the intervals, and assume that intervals start at zero, i.e. [0, 5), [5, 10), etc."
      ]
    },
    {
      "cell_type": "code",
      "execution_count": 299,
      "metadata": {
        "id": "3JGShH0TG15j"
      },
      "outputs": [],
      "source": [
        "# mask_with_zeros was previously named generalize\n",
        "def mask_with_zeros(df, depths):\n",
        "    \"\"\"\n",
        "    Returns a copy of `df` where the numeric column declared in `depths` are\n",
        "    generalized by replacing the least significant digits (also specified by\n",
        "    `depths`) with zeros\n",
        "    \"\"\"\n",
        "    new_df = df.copy()\n",
        "    for col, depth in depths.items():\n",
        "        factor = 10 ** depth\n",
        "        new_df[col] = new_df[col].apply(lambda value: factor * int(value / factor))\n",
        "\n",
        "    return new_df"
      ]
    },
    {
      "cell_type": "code",
      "execution_count": 300,
      "metadata": {
        "id": "bbXuGgikGyy3"
      },
      "outputs": [],
      "source": [
        "def generalize_by_intervals(df, col, interval_size):\n",
        "    \"\"\"\n",
        "    Returns a copy of `df` where the column 'col' is generalized in a way such\n",
        "    that every value is transformed to an interval of size `interval_size`\n",
        "    \"\"\"\n",
        "    new_df = df.copy()\n",
        "    # límites de los datos\n",
        "    max_value = int(new_df[col].max())\n",
        "    min_value = 0 #int(new_df[col].min())\n",
        "    intervals = np.arange(min_value, max_value + 2*interval_size, interval_size)\n",
        "    labels = [f\"[{intervals[i]}, {intervals[i+1]})\" for i in range(len(intervals)-1)]\n",
        "    new_df[col] = pd.cut(new_df[col], bins=intervals, labels=labels, right=False, include_lowest=True)\n",
        "    return new_df"
      ]
    },
    {
      "cell_type": "code",
      "execution_count": 301,
      "metadata": {
        "id": "4IlxHdGmLRtG"
      },
      "outputs": [],
      "source": [
        "# adult_deid with age splitted in intervals of 5\n",
        "adult_deid_gen = generalize_by_intervals(adult_deid, 'Age', 5)\n",
        "assert adult_deid['Age'].nunique() == 73\n",
        "# there should be only 16 possible values for 'Age'\n",
        "assert adult_deid_gen['Age'].nunique() == 16"
      ]
    },
    {
      "cell_type": "markdown",
      "metadata": {
        "id": "Lb2E-IVFH9uM"
      },
      "source": [
        "## Question 2 (5 points)\n",
        "\n",
        "The generalization using intervals should improve the anonimity of our dataset. Plot the histogram for the column 'Age' of the datasets `adult_deid` and `adult_deid_gen` in order to observe how the distribution of values have changed.\n",
        "\n",
        "*Hint*: use the `hist` function.\n",
        "\n",
        "\n",
        "\n"
      ]
    },
    {
      "cell_type": "code",
      "execution_count": 316,
      "metadata": {},
      "outputs": [
        {
          "data": {
            "image/png": "[encoded data removed]",
            "text/plain": [
              "<Figure size 640x480 with 2 Axes>"
            ]
          },
          "metadata": {},
          "output_type": "display_data"
        }
      ],
      "source": [
        "import matplotlib.pyplot as plt\n",
        "\n",
        "plt.subplot(1,2,1)\n",
        "adult_deid['Age'].hist()\n",
        "plt.title('adult_deid')\n",
        "plt.subplot(1,2,2)\n",
        "adult_deid_gen['Age'].hist()\n",
        "plt.title('adult_deid_gen')\n",
        "plt.xticks(rotation=90)\n",
        "plt.tight_layout()\n",
        "plt.show()"
      ]
    },
    {
      "cell_type": "markdown",
      "metadata": {
        "id": "SdmxaeXeQxS_"
      },
      "source": [
        "- Do you think that generalizing by intervals will be enough to get rid of outliers?"
      ]
    },
    {
      "cell_type": "markdown",
      "metadata": {
        "id": "NzbpnuBAQyq-"
      },
      "source": [
        "**Respuesta**: Podría ser suficiente pero tal vez con intervalos más grandes ya que en el histograma anterior se ve que en los extremos se tiene una frecuencia muy baja."
      ]
    },
    {
      "cell_type": "markdown",
      "metadata": {
        "id": "t2Hi8n-gKpbH"
      },
      "source": [
        "## Question 3 (5 points)\n",
        "\n",
        "In order to measure how good our generalizations are we need a way to compute the index of anonimity.\n",
        "\n",
        "Define a function `compute_anonimity_index` that calculates the (greatest) $k$ for which the dataset is $k$-anonymous, namely, the anonimity index."
      ]
    },
    {
      "cell_type": "code",
      "execution_count": 303,
      "metadata": {
        "id": "x5rfolDgLVXN"
      },
      "outputs": [],
      "source": [
        "def compute_anonimity_index(df, qis):\n",
        "    counts = df[qis].groupby(qis).value_counts()\n",
        "    counts = counts[counts > 0]\n",
        "    return counts.sort_values().min()"
      ]
    },
    {
      "cell_type": "code",
      "execution_count": 304,
      "metadata": {
        "id": "BjPEfUH-Lah5"
      },
      "outputs": [],
      "source": [
        "assert compute_anonimity_index(adult_deid, qis) == 1\n",
        "# Test from last lab\n",
        "assert compute_anonimity_index(mask_with_zeros(adult_deid, { 'Zip': 2, 'Age': 2 }), qis) >= 5"
      ]
    },
    {
      "cell_type": "markdown",
      "metadata": {
        "id": "kZHhqjRhLdG9"
      },
      "source": [
        "## Question 4 (10 points)\n",
        "\n",
        "Define a function `compute_diversity_index` that calculates the $l$ for which the dataset is $l$-diverse (for distinct diversity) for a given sensitive attribute, namely, the diversity index.\n",
        "\n",
        "*Hint*: You can use the `groupby` method for dataframes and the `nunique` method for series in order to calculate the index."
      ]
    },
    {
      "cell_type": "code",
      "execution_count": null,
      "metadata": {
        "id": "F8YTL3c2L7yj"
      },
      "outputs": [],
      "source": [
        "def compute_diversity_index(df, qis, target):\n",
        "    grouped = df.groupby(qis, observed=True)# [target].value_counts()\n",
        "    l_list = []\n",
        "    for _,group in grouped:\n",
        "        l_list.append(group[target].nunique())\n",
        "    return min(l_list)"
      ]
    },
    {
      "cell_type": "code",
      "execution_count": 306,
      "metadata": {
        "id": "WW1Q8HA2OKMI"
      },
      "outputs": [],
      "source": [
        "adult_deid_gen = mask_with_zeros(adult_deid_gen, { 'Zip': 4 })\n",
        "\n",
        "assert compute_diversity_index(adult_deid_gen, qis, 'Target') == 1"
      ]
    },
    {
      "cell_type": "markdown",
      "metadata": {
        "id": "EnL8F45LRcoX"
      },
      "source": [
        "## Question 5 (10 points)\n",
        "\n",
        "- Plot an histogram that illustrates the number of groups (grouped by our quasi-identifiers) vs the number of different sensitive values in each group, for the generalized dataframe.\n"
      ]
    },
    {
      "cell_type": "code",
      "execution_count": 307,
      "metadata": {},
      "outputs": [
        {
          "data": {
            "image/png": "[encoded data removed]",
            "text/plain": [
              "<Figure size 640x480 with 1 Axes>"
            ]
          },
          "metadata": {},
          "output_type": "display_data"
        }
      ],
      "source": [
        "grouped = adult_deid_gen.groupby(qis, observed=True)[\"Target\"].nunique()\n",
        "grouped.hist()\n",
        "plt.xlabel('l-diversidad')\n",
        "plt.xticks([1, 2])\n",
        "plt.grid()\n",
        "plt.show()"
      ]
    },
    {
      "cell_type": "markdown",
      "metadata": {
        "id": "Gl4tjOWkQaru"
      },
      "source": [
        "\n",
        "- Write the code to find what rows contain only one unique sensitivity value (`'Target'`) when grouped by the quasi-identifies `['Age', 'Zip']`."
      ]
    },
    {
      "cell_type": "code",
      "execution_count": null,
      "metadata": {
        "id": "zCHLLqGDQbWr"
      },
      "outputs": [
        {
          "data": {
            "text/plain": [
              "Age       Zip  \n",
              "[15, 20)  0        1\n",
              "          10000    1\n",
              "          20000    1\n",
              "          30000    1\n",
              "          40000    1\n",
              "          50000    1\n",
              "          60000    1\n",
              "          70000    1\n",
              "[70, 75)  40000    1\n",
              "[80, 85)  0        1\n",
              "          30000    1\n",
              "          40000    1\n",
              "          60000    1\n",
              "          70000    1\n",
              "[85, 90)  0        1\n",
              "          10000    1\n",
              "          20000    1\n",
              "          40000    1\n",
              "          60000    1\n",
              "          80000    1\n",
              "[90, 95)  0        1\n",
              "          10000    1\n",
              "          20000    1\n",
              "          30000    1\n",
              "          40000    1\n",
              "          50000    1\n",
              "Name: Target, dtype: int64"
            ]
          },
          "execution_count": 338,
          "metadata": {},
          "output_type": "execute_result"
        }
      ],
      "source": [
        "def findUniques(df, qis, target):\n",
        "    unique_adult_deid = df.groupby(qis, observed=True)[target].nunique()\n",
        "    uniques = unique_adult_deid[unique_adult_deid==1]\n",
        "    return uniques\n",
        "\n",
        "uniques = findUniques(adult_deid_gen, qis, \"Target\")\n",
        "uniques #valores únicos (son los que se ven en el histograma)"
      ]
    },
    {
      "cell_type": "code",
      "execution_count": 339,
      "metadata": {},
      "outputs": [
        {
          "data": {
            "text/html": [
              "<div>\n",
              "<style scoped>\n",
              "    .dataframe tbody tr th:only-of-type {\n",
              "        vertical-align: middle;\n",
              "    }\n",
              "\n",
              "    .dataframe tbody tr th {\n",
              "        vertical-align: top;\n",
              "    }\n",
              "\n",
              "    .dataframe thead th {\n",
              "        text-align: right;\n",
              "    }\n",
              "</style>\n",
              "<table border=\"1\" class=\"dataframe\">\n",
              "  <thead>\n",
              "    <tr style=\"text-align: right;\">\n",
              "      <th></th>\n",
              "      <th>DOB</th>\n",
              "      <th>Zip</th>\n",
              "      <th>Age</th>\n",
              "      <th>Target</th>\n",
              "    </tr>\n",
              "  </thead>\n",
              "  <tbody>\n",
              "    <tr>\n",
              "      <th>51</th>\n",
              "      <td>10/11/1961</td>\n",
              "      <td>60000</td>\n",
              "      <td>[15, 20)</td>\n",
              "      <td>&lt;=50K</td>\n",
              "    </tr>\n",
              "    <tr>\n",
              "      <th>70</th>\n",
              "      <td>3/20/1974</td>\n",
              "      <td>40000</td>\n",
              "      <td>[15, 20)</td>\n",
              "      <td>&lt;=50K</td>\n",
              "    </tr>\n",
              "    <tr>\n",
              "      <th>78</th>\n",
              "      <td>7/10/1954</td>\n",
              "      <td>20000</td>\n",
              "      <td>[15, 20)</td>\n",
              "      <td>&lt;=50K</td>\n",
              "    </tr>\n",
              "    <tr>\n",
              "      <th>80</th>\n",
              "      <td>2/24/1956</td>\n",
              "      <td>40000</td>\n",
              "      <td>[15, 20)</td>\n",
              "      <td>&lt;=50K</td>\n",
              "    </tr>\n",
              "    <tr>\n",
              "      <th>106</th>\n",
              "      <td>5/22/2005</td>\n",
              "      <td>60000</td>\n",
              "      <td>[15, 20)</td>\n",
              "      <td>&lt;=50K</td>\n",
              "    </tr>\n",
              "    <tr>\n",
              "      <th>...</th>\n",
              "      <td>...</td>\n",
              "      <td>...</td>\n",
              "      <td>...</td>\n",
              "      <td>...</td>\n",
              "    </tr>\n",
              "    <tr>\n",
              "      <th>32443</th>\n",
              "      <td>5/5/1960</td>\n",
              "      <td>0</td>\n",
              "      <td>[15, 20)</td>\n",
              "      <td>&lt;=50K</td>\n",
              "    </tr>\n",
              "    <tr>\n",
              "      <th>32447</th>\n",
              "      <td>2/4/2011</td>\n",
              "      <td>50000</td>\n",
              "      <td>[15, 20)</td>\n",
              "      <td>&lt;=50K</td>\n",
              "    </tr>\n",
              "    <tr>\n",
              "      <th>32459</th>\n",
              "      <td>7/26/2012</td>\n",
              "      <td>20000</td>\n",
              "      <td>[85, 90)</td>\n",
              "      <td>&lt;=50K</td>\n",
              "    </tr>\n",
              "    <tr>\n",
              "      <th>32494</th>\n",
              "      <td>8/25/1983</td>\n",
              "      <td>60000</td>\n",
              "      <td>[80, 85)</td>\n",
              "      <td>&lt;=50K</td>\n",
              "    </tr>\n",
              "    <tr>\n",
              "      <th>32542</th>\n",
              "      <td>11/17/2002</td>\n",
              "      <td>40000</td>\n",
              "      <td>[70, 75)</td>\n",
              "      <td>&lt;=50K</td>\n",
              "    </tr>\n",
              "  </tbody>\n",
              "</table>\n",
              "<p>1389 rows × 4 columns</p>\n",
              "</div>"
            ],
            "text/plain": [
              "              DOB    Zip       Age Target\n",
              "51     10/11/1961  60000  [15, 20)  <=50K\n",
              "70      3/20/1974  40000  [15, 20)  <=50K\n",
              "78      7/10/1954  20000  [15, 20)  <=50K\n",
              "80      2/24/1956  40000  [15, 20)  <=50K\n",
              "106     5/22/2005  60000  [15, 20)  <=50K\n",
              "...           ...    ...       ...    ...\n",
              "32443    5/5/1960      0  [15, 20)  <=50K\n",
              "32447    2/4/2011  50000  [15, 20)  <=50K\n",
              "32459   7/26/2012  20000  [85, 90)  <=50K\n",
              "32494   8/25/1983  60000  [80, 85)  <=50K\n",
              "32542  11/17/2002  40000  [70, 75)  <=50K\n",
              "\n",
              "[1389 rows x 4 columns]"
            ]
          },
          "execution_count": 339,
          "metadata": {},
          "output_type": "execute_result"
        }
      ],
      "source": [
        "def findUniquesRow(df, qis, target):\n",
        "    unique_counts = df.groupby(qis, observed=True)[target].nunique()\n",
        "    unique_groups = unique_counts[unique_counts == 1].index\n",
        "    return df[df[qis].apply(tuple, axis=1).isin(unique_groups)]\n",
        "\n",
        "uniques = findUniquesRow(adult_deid_gen, qis, \"Target\")\n",
        "uniques #filas con valores únicos"
      ]
    },
    {
      "cell_type": "markdown",
      "metadata": {
        "id": "iwnFxD7MQb8m"
      },
      "source": [
        "- Describe the outliers."
      ]
    },
    {
      "cell_type": "markdown",
      "metadata": {
        "id": "L34n0vw5QmPK"
      },
      "source": [
        "**Repuesta:** Los outliers en el rango [15, 20) podrían ser porque como los votantes tienen al menos 18 años, los que se encuentran en este intervalo son pocos y además con un código zip en particular son aún menos.\n",
        "Para los rangos de mayor de edad podría estar relacionado con la esperanza de vida y debido a esto ya al separlos por código zip son aún menos."
      ]
    },
    {
      "cell_type": "markdown",
      "metadata": {
        "id": "lQzTH0p1RVtd"
      },
      "source": [
        "## Question 6 (5 points)\n",
        "\n",
        "- Write a function `generalize_by_bounds` that sets a lower and upper bound to a numeric column.\n",
        "\n"
      ]
    },
    {
      "cell_type": "code",
      "execution_count": 309,
      "metadata": {
        "id": "QVpxQ4sYRavy"
      },
      "outputs": [],
      "source": [
        "def generalize_by_bounds(df, col, lower, upper):\n",
        "    \"\"\"\n",
        "    Creates a new dataframe from `df` where the column 'col' is\n",
        "    generalized in a way such that every value below or equal to `lower` is\n",
        "    replaced by `lower`, and every value above `upper` is replaced by `upper`\n",
        "    \"\"\"\n",
        "    new_df = df.copy()\n",
        "    new_df[col]=new_df.apply(lambda row: lower if row[col]<=lower else upper if row[col]>=upper else row[col], axis=1)\n",
        "    return new_df"
      ]
    },
    {
      "cell_type": "code",
      "execution_count": 310,
      "metadata": {},
      "outputs": [],
      "source": [
        "def generalize_by_bounds(df, col, lower, upper):\n",
        "    new_df = df.copy()\n",
        "    intervals = df[col].cat.categories\n",
        "    # Filtramos los intervalos que estén fuera de los límites lower y upper\n",
        "    new_intervals = [interval for interval in intervals if int(interval.split(',')[0][1:]) >= lower and int(interval.split(',')[1][:-1]) <= upper]\n",
        "    \n",
        "    # Aplicamos los intervalos filtrados\n",
        "    new_df[col] = new_df[col].apply(\n",
        "        lambda x: x if x in new_intervals else (\n",
        "            new_intervals[0] if x < new_intervals[0] else new_intervals[-1]\n",
        "        )\n",
        "    )\n",
        "    return new_df"
      ]
    },
    {
      "cell_type": "markdown",
      "metadata": {
        "id": "CCgDzgEmO19Z"
      },
      "source": [
        "- Use the `generalize_by_bounds` function to achieve 2-diversity and 41-anonimity.\n",
        "\n"
      ]
    },
    {
      "cell_type": "code",
      "execution_count": 312,
      "metadata": {
        "id": "slJLOf_6RKCj"
      },
      "outputs": [
        {
          "name": "stdout",
          "output_type": "stream",
          "text": [
            "The final diversity index is: 2\n",
            "The final anonimity index is: 41\n"
          ]
        }
      ],
      "source": [
        "adult_deid_2div = generalize_by_bounds(adult_deid_gen, \"Age\", 20, 75)\n",
        "\n",
        "ldiv = compute_diversity_index(adult_deid_2div, qis, 'Target')\n",
        "kanon = compute_anonimity_index(adult_deid_2div, qis)\n",
        "\n",
        "assert ldiv == 2\n",
        "assert kanon == 41\n",
        "\n",
        "print(\"The final diversity index is:\", ldiv)\n",
        "print(\"The final anonimity index is:\", kanon)"
      ]
    },
    {
      "cell_type": "markdown",
      "metadata": {
        "id": "sBHmj4BNO6FX"
      },
      "source": [
        "- Describe using natural language the changes done to the original dataframe."
      ]
    },
    {
      "cell_type": "markdown",
      "metadata": {
        "id": "o4_I2qYDVFYp"
      },
      "source": [
        "**Respuesta**: Los cambios hechos a los dataframe son agrupaciones, ya que se fijan rangos de código zip y se generalizan. Luego, se clasifican las edades por rangos para lograr anonimización y luego se generalizan sus valores para eliminar los datos que se alejan del comportamiento general (outliers) con esto se logra evitar la diferenciación de los datos."
      ]
    },
    {
      "cell_type": "markdown",
      "metadata": {
        "id": "FqXUiimRUpQu"
      },
      "source": [
        "## Question 7 (15 points)\n",
        "\n",
        "The entropic diversity of a QID group measures how evenly the private values of some attribute $S$ are distributed in that group. It is formally defined as\n",
        "$$-\\sum_{v\\in S}\\mathtt{P}(\\mathit{QIds}, v)*\\mathtt{log}(\\mathtt{P}(\\mathit{QIds}, v))$$\n",
        "where $\\mathtt{P}(\\mathit{QIds}, v)$ corresponds to the fraction of records in the $\\mathit{QIds}$ group with value $v$ for the attribute $S$.\n",
        "For example, for the following table where disease is a sensitive data:\n",
        "\n",
        "| Job | Sex | Age | Disease |\n",
        "| --- | --- | --- | --- |\n",
        "| Professional | F | [35-40) | Hepatitis |\n",
        "| Professional | F | [35-40) | Hepatitis |\n",
        "| Professional | F | [35-40) | VIH |\n",
        "| Artist | M | [35-35) | Flu |\n",
        "| Artist | M | [35-35) | VIH |\n",
        "| Artist | M | [35-35) | VIH |\n",
        "| Artist | M | [35-35) | VIH |\n",
        "\n",
        "The entropic diversity of the group (Professional, F, [35-40)) is $-(\\frac{2}{3}\\mathtt{log}\\frac{2}{3} + \\frac{1}{3}\\mathtt{log}\\frac{1}{3}) = \\mathtt{log}(1.9)$, and the entropic diversity of group (Artist, M, [35-35)) is $-(\\frac{3}{4}\\mathtt{log}\\frac{3}{4} + \\frac{1}{4}\\mathtt{log}\\frac{1}{4}) = \\mathtt{log}(1.8)$.\n",
        "\n",
        "The entropic diversity of a table is the minimum of all the entropic diversities among all QIds.\n",
        "\n",
        "Write a function that computes the entropic diversity of a dataframe.\n",
        "\n",
        "Hint: Investigate what the following calls do in pandas: `...value_counts(normalize=True)` and `...reset_index(name='...')`"
      ]
    },
    {
      "cell_type": "code",
      "execution_count": 313,
      "metadata": {
        "id": "dTHYCwEcUt3e"
      },
      "outputs": [],
      "source": [
        "import math\n",
        "def l_entropic_diversity(df, qis, target):\n",
        "    \"\"\"\n",
        "    Computes the entropic diversity of a dataframe given the QIDs qis, and the sensitivity attribute target.\n",
        "    \"\"\"\n",
        "    grouped = df.groupby(qis)\n",
        "    H = []\n",
        "    for par, group in grouped:\n",
        "        p = group[target].value_counts(normalize=True)\n",
        "        H.append(-np.sum(p*np.log(p)))\n",
        "        \n",
        "    return min(H)\n",
        "\n",
        "assert np.isclose(l_entropic_diversity(adult_deid_2div, qis, 'Target'), 0.02490171502983102)"
      ]
    }
  ],
  "metadata": {
    "colab": {
      "provenance": []
    },
    "kernelspec": {
      "display_name": "cc5215",
      "language": "python",
      "name": "python3"
    },
    "language_info": {
      "codemirror_mode": {
        "name": "ipython",
        "version": 3
      },
      "file_extension": ".py",
      "mimetype": "text/x-python",
      "name": "python",
      "nbconvert_exporter": "python",
      "pygments_lexer": "ipython3",
      "version": "3.13.2"
    }
  },
  "nbformat": 4,
  "nbformat_minor": 0
}
