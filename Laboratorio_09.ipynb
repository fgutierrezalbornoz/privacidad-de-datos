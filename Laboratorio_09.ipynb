{
  "cells": [
    {
      "cell_type": "markdown",
      "metadata": {
        "id": "7X7ZwNViRWmT"
      },
      "source": [
        "# CC5215: Privacidad de Datos\n",
        "\n",
        "## Laboratorio 9\n",
        "\n",
        "Integrantes:\n",
        "\n",
        "- Francisco Gutiérrez Albornoz"
      ]
    },
    {
      "cell_type": "markdown",
      "metadata": {
        "id": "N6T28hTUTzJC"
      },
      "source": [
        "## Preamble\n",
        "\n",
        "In this lab, we are going to implement the MWEM algorithm seen in class. Furthermore, we will incrementally build the necessary pieces of the algorithm in order to re-use the same logic for a private and a non-private version."
      ]
    },
    {
      "cell_type": "code",
      "execution_count": 3,
      "metadata": {
        "id": "9JmjcAJRRWmW"
      },
      "outputs": [],
      "source": [
        "# Load the data and libraries\n",
        "import pandas as pd\n",
        "import numpy as np\n",
        "import random\n",
        "from scipy import stats\n",
        "import matplotlib.pyplot as plt\n",
        "\n",
        "def laplace_mech(v, sensitivity, epsilon):\n",
        "    return v + np.random.laplace(loc=0, scale=sensitivity / epsilon)\n",
        "\n",
        "def pct_error(orig, priv):\n",
        "    return np.abs(orig - priv)/orig * 100.0\n",
        "\n",
        "adult = pd.read_csv('https://users.dcc.uchile.cl/~mtoro/cursos/cc5215/adult_with_pii.csv')"
      ]
    },
    {
      "cell_type": "markdown",
      "metadata": {
        "id": "VMuWjsaGQIwM"
      },
      "source": [
        "## Question 1 (5 points)\n",
        "\n",
        "The following code block shows the contingency table for the colums \"Age\" and \"Occupation\" in the dataset `adult`."
      ]
    },
    {
      "cell_type": "code",
      "execution_count": 4,
      "metadata": {
        "id": "eaeGFNUH9KYf"
      },
      "outputs": [
        {
          "data": {
            "text/html": [
              "<div>\n",
              "<style scoped>\n",
              "    .dataframe tbody tr th:only-of-type {\n",
              "        vertical-align: middle;\n",
              "    }\n",
              "\n",
              "    .dataframe tbody tr th {\n",
              "        vertical-align: top;\n",
              "    }\n",
              "\n",
              "    .dataframe thead th {\n",
              "        text-align: right;\n",
              "    }\n",
              "</style>\n",
              "<table border=\"1\" class=\"dataframe\">\n",
              "  <thead>\n",
              "    <tr style=\"text-align: right;\">\n",
              "      <th></th>\n",
              "      <th>col_0</th>\n",
              "      <th>Norm_count</th>\n",
              "    </tr>\n",
              "    <tr>\n",
              "      <th>Age</th>\n",
              "      <th>Occupation</th>\n",
              "      <th></th>\n",
              "    </tr>\n",
              "  </thead>\n",
              "  <tbody>\n",
              "    <tr>\n",
              "      <th rowspan=\"5\" valign=\"top\">17</th>\n",
              "      <th>Adm-clerical</th>\n",
              "      <td>0.000749</td>\n",
              "    </tr>\n",
              "    <tr>\n",
              "      <th>Craft-repair</th>\n",
              "      <td>0.000456</td>\n",
              "    </tr>\n",
              "    <tr>\n",
              "      <th>Exec-managerial</th>\n",
              "      <td>0.000033</td>\n",
              "    </tr>\n",
              "    <tr>\n",
              "      <th>Farming-fishing</th>\n",
              "      <td>0.000293</td>\n",
              "    </tr>\n",
              "    <tr>\n",
              "      <th>Handlers-cleaners</th>\n",
              "      <td>0.001302</td>\n",
              "    </tr>\n",
              "    <tr>\n",
              "      <th>...</th>\n",
              "      <th>...</th>\n",
              "      <td>...</td>\n",
              "    </tr>\n",
              "    <tr>\n",
              "      <th rowspan=\"5\" valign=\"top\">90</th>\n",
              "      <th>Other-service</th>\n",
              "      <td>0.000195</td>\n",
              "    </tr>\n",
              "    <tr>\n",
              "      <th>Prof-specialty</th>\n",
              "      <td>0.000163</td>\n",
              "    </tr>\n",
              "    <tr>\n",
              "      <th>Protective-serv</th>\n",
              "      <td>0.000033</td>\n",
              "    </tr>\n",
              "    <tr>\n",
              "      <th>Sales</th>\n",
              "      <td>0.000098</td>\n",
              "    </tr>\n",
              "    <tr>\n",
              "      <th>Transport-moving</th>\n",
              "      <td>0.000033</td>\n",
              "    </tr>\n",
              "  </tbody>\n",
              "</table>\n",
              "<p>843 rows × 1 columns</p>\n",
              "</div>"
            ],
            "text/plain": [
              "col_0                  Norm_count\n",
              "Age Occupation                   \n",
              "17  Adm-clerical         0.000749\n",
              "    Craft-repair         0.000456\n",
              "    Exec-managerial      0.000033\n",
              "    Farming-fishing      0.000293\n",
              "    Handlers-cleaners    0.001302\n",
              "...                           ...\n",
              "90  Other-service        0.000195\n",
              "    Prof-specialty       0.000163\n",
              "    Protective-serv      0.000033\n",
              "    Sales                0.000098\n",
              "    Transport-moving     0.000033\n",
              "\n",
              "[843 rows x 1 columns]"
            ]
          },
          "execution_count": 4,
          "metadata": {},
          "output_type": "execute_result"
        }
      ],
      "source": [
        "D = pd.crosstab(\n",
        "    [adult['Age'], adult['Occupation']],\n",
        "    np.ones(adult.shape[0]),\n",
        "    normalize=True).rename(columns={1.0: \"Norm_count\"})\n",
        "\n",
        "D"
      ]
    },
    {
      "cell_type": "markdown",
      "metadata": {
        "id": "FJR_f-HGFXtn"
      },
      "source": [
        "\n",
        "Implement the `generate_n_qweights` function that creates a list of size `n` of binary weights (values being either 0 or 1) for a dataframe `D`:\n",
        "\n",
        "_Hints_: Use the function `np.random.choice` to create a matrix with the dimentsions of `D` and use it to create a pd.Dataframe. Also, the properties `.shape`, `.index`, `.columns` of Dataframe may be useful."
      ]
    },
    {
      "cell_type": "code",
      "execution_count": 5,
      "metadata": {
        "id": "MpAZ7bEXSF65"
      },
      "outputs": [
        {
          "data": {
            "text/html": [
              "<div>\n",
              "<style scoped>\n",
              "    .dataframe tbody tr th:only-of-type {\n",
              "        vertical-align: middle;\n",
              "    }\n",
              "\n",
              "    .dataframe tbody tr th {\n",
              "        vertical-align: top;\n",
              "    }\n",
              "\n",
              "    .dataframe thead th {\n",
              "        text-align: right;\n",
              "    }\n",
              "</style>\n",
              "<table border=\"1\" class=\"dataframe\">\n",
              "  <thead>\n",
              "    <tr style=\"text-align: right;\">\n",
              "      <th></th>\n",
              "      <th>col_0</th>\n",
              "      <th>Norm_count</th>\n",
              "    </tr>\n",
              "    <tr>\n",
              "      <th>Age</th>\n",
              "      <th>Occupation</th>\n",
              "      <th></th>\n",
              "    </tr>\n",
              "  </thead>\n",
              "  <tbody>\n",
              "    <tr>\n",
              "      <th rowspan=\"5\" valign=\"top\">17</th>\n",
              "      <th>Adm-clerical</th>\n",
              "      <td>0</td>\n",
              "    </tr>\n",
              "    <tr>\n",
              "      <th>Craft-repair</th>\n",
              "      <td>1</td>\n",
              "    </tr>\n",
              "    <tr>\n",
              "      <th>Exec-managerial</th>\n",
              "      <td>0</td>\n",
              "    </tr>\n",
              "    <tr>\n",
              "      <th>Farming-fishing</th>\n",
              "      <td>0</td>\n",
              "    </tr>\n",
              "    <tr>\n",
              "      <th>Handlers-cleaners</th>\n",
              "      <td>1</td>\n",
              "    </tr>\n",
              "    <tr>\n",
              "      <th>...</th>\n",
              "      <th>...</th>\n",
              "      <td>...</td>\n",
              "    </tr>\n",
              "    <tr>\n",
              "      <th rowspan=\"5\" valign=\"top\">90</th>\n",
              "      <th>Other-service</th>\n",
              "      <td>1</td>\n",
              "    </tr>\n",
              "    <tr>\n",
              "      <th>Prof-specialty</th>\n",
              "      <td>0</td>\n",
              "    </tr>\n",
              "    <tr>\n",
              "      <th>Protective-serv</th>\n",
              "      <td>1</td>\n",
              "    </tr>\n",
              "    <tr>\n",
              "      <th>Sales</th>\n",
              "      <td>0</td>\n",
              "    </tr>\n",
              "    <tr>\n",
              "      <th>Transport-moving</th>\n",
              "      <td>1</td>\n",
              "    </tr>\n",
              "  </tbody>\n",
              "</table>\n",
              "<p>843 rows × 1 columns</p>\n",
              "</div>"
            ],
            "text/plain": [
              "col_0                  Norm_count\n",
              "Age Occupation                   \n",
              "17  Adm-clerical                0\n",
              "    Craft-repair                1\n",
              "    Exec-managerial             0\n",
              "    Farming-fishing             0\n",
              "    Handlers-cleaners           1\n",
              "...                           ...\n",
              "90  Other-service               1\n",
              "    Prof-specialty              0\n",
              "    Protective-serv             1\n",
              "    Sales                       0\n",
              "    Transport-moving            1\n",
              "\n",
              "[843 rows x 1 columns]"
            ]
          },
          "execution_count": 5,
          "metadata": {},
          "output_type": "execute_result"
        }
      ],
      "source": [
        "def generate_n_qweights(D, n):\n",
        "    \"\"\"\n",
        "    Generate a list of n dataframes, of the same structure as D, where each dataframe cell is either 0 or 1.\n",
        "\n",
        "    Parameters:\n",
        "        D (pd.Dataframe): The data for which the weight vectors will be generated\n",
        "        n (int): The number of vectors to generate\n",
        "\n",
        "    Returns:\n",
        "        list(pd.Dataframe): A list of dataframes with the same shape of D, where each value is either 0 or 1\n",
        "\n",
        "    Example:\n",
        "        D = pd.Dataframe([0.1, 0.5, 0.4])\n",
        "        qs = generate_n_qweights(D, 10)\n",
        "        print(qs[0]) # Output: Dataframe([1, 0, 1])\n",
        "    \"\"\"\n",
        "    return [pd.DataFrame(np.random.choice([0, 1], D.shape, p=[0.5, 0.5]), columns=D.columns, index=D.index) for _ in range(n)] \n",
        "\n",
        "qs = generate_n_qweights(D, 40)\n",
        "\n",
        "qs[0]"
      ]
    },
    {
      "cell_type": "code",
      "execution_count": 6,
      "metadata": {
        "id": "EvJzY1IDTiZb"
      },
      "outputs": [],
      "source": [
        "# TESTS\n",
        "\n",
        "q_test = generate_n_qweights(D, 1)[0]\n",
        "\n",
        "# This tests should NEVER fail\n",
        "assert len(q_test) == len(D)\n",
        "assert all([abs(w) <= 1 for w in q_test.values.flatten()])"
      ]
    },
    {
      "cell_type": "markdown",
      "metadata": {
        "id": "vOByn13lXsqp"
      },
      "source": [
        "## Question 2 (5 points)\n",
        "\n",
        "From a `q` matrix, we can create a query `Q` that receives a dataframe `D` and calculates the weighted sum of `D` and `q`. Implement `generate_query_from_qweigth` that receives a `q` matrix and returns a tuple containing the same `q` and a function `Q`."
      ]
    },
    {
      "cell_type": "code",
      "execution_count": 7,
      "metadata": {
        "id": "aOJc3Lm0SqiJ"
      },
      "outputs": [
        {
          "name": "stdout",
          "output_type": "stream",
          "text": [
            "Query: <function generate_query_from_qweigth.<locals>.<lambda> at 0x000002245A8AE7A0>\n",
            "==================================================\n",
            "Query data:\n"
          ]
        },
        {
          "data": {
            "text/html": [
              "<div>\n",
              "<style scoped>\n",
              "    .dataframe tbody tr th:only-of-type {\n",
              "        vertical-align: middle;\n",
              "    }\n",
              "\n",
              "    .dataframe tbody tr th {\n",
              "        vertical-align: top;\n",
              "    }\n",
              "\n",
              "    .dataframe thead th {\n",
              "        text-align: right;\n",
              "    }\n",
              "</style>\n",
              "<table border=\"1\" class=\"dataframe\">\n",
              "  <thead>\n",
              "    <tr style=\"text-align: right;\">\n",
              "      <th></th>\n",
              "      <th>col_0</th>\n",
              "      <th>Norm_count</th>\n",
              "    </tr>\n",
              "    <tr>\n",
              "      <th>Age</th>\n",
              "      <th>Occupation</th>\n",
              "      <th></th>\n",
              "    </tr>\n",
              "  </thead>\n",
              "  <tbody>\n",
              "    <tr>\n",
              "      <th rowspan=\"5\" valign=\"top\">17</th>\n",
              "      <th>Adm-clerical</th>\n",
              "      <td>0</td>\n",
              "    </tr>\n",
              "    <tr>\n",
              "      <th>Craft-repair</th>\n",
              "      <td>1</td>\n",
              "    </tr>\n",
              "    <tr>\n",
              "      <th>Exec-managerial</th>\n",
              "      <td>0</td>\n",
              "    </tr>\n",
              "    <tr>\n",
              "      <th>Farming-fishing</th>\n",
              "      <td>0</td>\n",
              "    </tr>\n",
              "    <tr>\n",
              "      <th>Handlers-cleaners</th>\n",
              "      <td>1</td>\n",
              "    </tr>\n",
              "    <tr>\n",
              "      <th>...</th>\n",
              "      <th>...</th>\n",
              "      <td>...</td>\n",
              "    </tr>\n",
              "    <tr>\n",
              "      <th rowspan=\"5\" valign=\"top\">90</th>\n",
              "      <th>Other-service</th>\n",
              "      <td>1</td>\n",
              "    </tr>\n",
              "    <tr>\n",
              "      <th>Prof-specialty</th>\n",
              "      <td>0</td>\n",
              "    </tr>\n",
              "    <tr>\n",
              "      <th>Protective-serv</th>\n",
              "      <td>1</td>\n",
              "    </tr>\n",
              "    <tr>\n",
              "      <th>Sales</th>\n",
              "      <td>0</td>\n",
              "    </tr>\n",
              "    <tr>\n",
              "      <th>Transport-moving</th>\n",
              "      <td>1</td>\n",
              "    </tr>\n",
              "  </tbody>\n",
              "</table>\n",
              "<p>843 rows × 1 columns</p>\n",
              "</div>"
            ],
            "text/plain": [
              "col_0                  Norm_count\n",
              "Age Occupation                   \n",
              "17  Adm-clerical                0\n",
              "    Craft-repair                1\n",
              "    Exec-managerial             0\n",
              "    Farming-fishing             0\n",
              "    Handlers-cleaners           1\n",
              "...                           ...\n",
              "90  Other-service               1\n",
              "    Prof-specialty              0\n",
              "    Protective-serv             1\n",
              "    Sales                       0\n",
              "    Transport-moving            1\n",
              "\n",
              "[843 rows x 1 columns]"
            ]
          },
          "execution_count": 7,
          "metadata": {},
          "output_type": "execute_result"
        }
      ],
      "source": [
        "def generate_query_from_qweigth(q):\n",
        "    \"\"\"\n",
        "    Generate a query function from a given query weight.\n",
        "\n",
        "    Parameters:\n",
        "        q (pd.Dataframe): The query weight vector.\n",
        "\n",
        "    Returns:\n",
        "        tuple: A tuple containing the query weight vector and the query function.\n",
        "    \"\"\"\n",
        "    # Q = lambda x: (pd.DataFrame(x[\"Norm_count\"].values, columns=x.columns) * q).values.sum()\n",
        "    Q = lambda x: (x * q).values.sum()\n",
        "    return (q, Q)\n",
        "\n",
        "Qs = [generate_query_from_qweigth(q) for q in qs]\n",
        "\n",
        "print(\"Query:\", Qs[0][1])\n",
        "print(\"=\" * 50)\n",
        "print(\"Query data:\")\n",
        "Qs[0][0]"
      ]
    },
    {
      "cell_type": "markdown",
      "metadata": {
        "id": "_K52BaBDXzUq"
      },
      "source": [
        "## Question 3 (2 points)\n",
        "\n",
        "For starting writing the MWEM implementation, the first step is to generate a first guess. Implement `gen_first_guess` that creates a dataframe similar to its argument `D`, but where each cell simply contains $\\frac{1}{n}$, where $n$ is the size (number of cells) of `D`."
      ]
    },
    {
      "cell_type": "code",
      "execution_count": 8,
      "metadata": {
        "id": "A0_bDn-vU-dj"
      },
      "outputs": [],
      "source": [
        "def gen_first_guess(D):\n",
        "    n = D.shape[0]\n",
        "    return pd.DataFrame([1 / n for _ in range(n)], columns=D.columns, index=D.index)"
      ]
    },
    {
      "cell_type": "code",
      "execution_count": 9,
      "metadata": {
        "id": "efMo9NmuX4Dg"
      },
      "outputs": [
        {
          "data": {
            "text/html": [
              "<div>\n",
              "<style scoped>\n",
              "    .dataframe tbody tr th:only-of-type {\n",
              "        vertical-align: middle;\n",
              "    }\n",
              "\n",
              "    .dataframe tbody tr th {\n",
              "        vertical-align: top;\n",
              "    }\n",
              "\n",
              "    .dataframe thead th {\n",
              "        text-align: right;\n",
              "    }\n",
              "</style>\n",
              "<table border=\"1\" class=\"dataframe\">\n",
              "  <thead>\n",
              "    <tr style=\"text-align: right;\">\n",
              "      <th></th>\n",
              "      <th>col_0</th>\n",
              "      <th>Norm_count</th>\n",
              "    </tr>\n",
              "    <tr>\n",
              "      <th>Age</th>\n",
              "      <th>Occupation</th>\n",
              "      <th></th>\n",
              "    </tr>\n",
              "  </thead>\n",
              "  <tbody>\n",
              "    <tr>\n",
              "      <th rowspan=\"5\" valign=\"top\">17</th>\n",
              "      <th>Adm-clerical</th>\n",
              "      <td>0.001186</td>\n",
              "    </tr>\n",
              "    <tr>\n",
              "      <th>Craft-repair</th>\n",
              "      <td>0.001186</td>\n",
              "    </tr>\n",
              "    <tr>\n",
              "      <th>Exec-managerial</th>\n",
              "      <td>0.001186</td>\n",
              "    </tr>\n",
              "    <tr>\n",
              "      <th>Farming-fishing</th>\n",
              "      <td>0.001186</td>\n",
              "    </tr>\n",
              "    <tr>\n",
              "      <th>Handlers-cleaners</th>\n",
              "      <td>0.001186</td>\n",
              "    </tr>\n",
              "    <tr>\n",
              "      <th>...</th>\n",
              "      <th>...</th>\n",
              "      <td>...</td>\n",
              "    </tr>\n",
              "    <tr>\n",
              "      <th rowspan=\"5\" valign=\"top\">90</th>\n",
              "      <th>Other-service</th>\n",
              "      <td>0.001186</td>\n",
              "    </tr>\n",
              "    <tr>\n",
              "      <th>Prof-specialty</th>\n",
              "      <td>0.001186</td>\n",
              "    </tr>\n",
              "    <tr>\n",
              "      <th>Protective-serv</th>\n",
              "      <td>0.001186</td>\n",
              "    </tr>\n",
              "    <tr>\n",
              "      <th>Sales</th>\n",
              "      <td>0.001186</td>\n",
              "    </tr>\n",
              "    <tr>\n",
              "      <th>Transport-moving</th>\n",
              "      <td>0.001186</td>\n",
              "    </tr>\n",
              "  </tbody>\n",
              "</table>\n",
              "<p>843 rows × 1 columns</p>\n",
              "</div>"
            ],
            "text/plain": [
              "col_0                  Norm_count\n",
              "Age Occupation                   \n",
              "17  Adm-clerical         0.001186\n",
              "    Craft-repair         0.001186\n",
              "    Exec-managerial      0.001186\n",
              "    Farming-fishing      0.001186\n",
              "    Handlers-cleaners    0.001186\n",
              "...                           ...\n",
              "90  Other-service        0.001186\n",
              "    Prof-specialty       0.001186\n",
              "    Protective-serv      0.001186\n",
              "    Sales                0.001186\n",
              "    Transport-moving     0.001186\n",
              "\n",
              "[843 rows x 1 columns]"
            ]
          },
          "execution_count": 9,
          "metadata": {},
          "output_type": "execute_result"
        }
      ],
      "source": [
        "# TESTS\n",
        "\n",
        "D0_test = gen_first_guess(D)\n",
        "\n",
        "assert D0_test.shape == D.shape\n",
        "assert np.isclose(D0_test.values.sum(), 1.0)\n",
        "\n",
        "D0_test"
      ]
    },
    {
      "cell_type": "markdown",
      "metadata": {
        "id": "g3Yibck4YNhX"
      },
      "source": [
        "## Question 4 (6 points)\n",
        "\n",
        "Our implementation of MWEM is going to be parametrized by the way we calculate the argmax error query, and the way we calculate the erorr/correction. Implement `get_i_max_nonDP`, that returns the index of the query that maximizes the error between `D` and `D_prev`. Additionally, implement `calc_correction_nonDP` that returns the `error` variable seen in class."
      ]
    },
    {
      "cell_type": "code",
      "execution_count": 10,
      "metadata": {
        "id": "uKkLACJSU1aq"
      },
      "outputs": [],
      "source": [
        "def get_i_max_nonDP(D, D_prev, queries):\n",
        "    \"\"\"\n",
        "    Determine the index of the maximum query based on the absolute difference of query results.\n",
        "\n",
        "    Parameters:\n",
        "        D (pandas.DataFrame): The input data.\n",
        "        D_prev (pandas.DataFrame): The previous distribution.\n",
        "        queries (list(tuple)): List of pairs (a dataframe and a function) representing each query\n",
        "\n",
        "    Returns:\n",
        "        int: The index of the maximum query.\n",
        "    \"\"\"\n",
        "    diff_queries_results = [abs(Q(D) - Q(D_prev)) for (_, Q) in queries]\n",
        "    return np.argmax(diff_queries_results)\n",
        "\n",
        "def calc_correction_nonDP(Q, D, D_prev):\n",
        "    \"\"\"\n",
        "    Calculate the correction factor for a query without using differential privacy.\n",
        "\n",
        "    Parameters:\n",
        "        Q (function): The query function.\n",
        "        D (pandas.DataFrame): The input data.\n",
        "        D_prev (pandas.DataFrame): The previous distribution.\n",
        "\n",
        "    Returns:\n",
        "        float: The correction (or error) factor for the query.\n",
        "    \"\"\"\n",
        "    return Q(D) - Q(D_prev)"
      ]
    },
    {
      "cell_type": "code",
      "execution_count": 11,
      "metadata": {
        "id": "FGlhEW5XU_iw"
      },
      "outputs": [],
      "source": [
        "# TESTS\n",
        "\n",
        "D_prev_test = gen_first_guess(D)\n",
        "\n",
        "assert get_i_max_nonDP(D, D_prev_test, Qs) < len(Qs)\n",
        "assert abs(calc_correction_nonDP(Qs[0][1], D, D_prev_test)) < 1"
      ]
    },
    {
      "cell_type": "markdown",
      "metadata": {
        "id": "R8XPY2a_YSva"
      },
      "source": [
        "## Question 5 (14 points)\n",
        "\n",
        "We finally have all the parts necessary to build the MWEM algorithm. Implement MWEM as seen in class, with one subtlety: besides `D`, `queries` and `iterations`, the function must receive two functions that calculate the argmax error and the correction, respectively.\n",
        "\n",
        "_Hint:_ As we are working with arithmetic over numbers between 0 and 1, it is probable that you may encounter floating approximation errors. It is recommended that you normalize the datasets you generate in each iteration to make sure that the elements sum up to exactly 1."
      ]
    },
    {
      "cell_type": "code",
      "execution_count": 12,
      "metadata": {
        "id": "qkjAa_mOW64-"
      },
      "outputs": [],
      "source": [
        "def MWEM_base(D, queries, iterations, get_i_max, calc_correction):\n",
        "    \"\"\"\n",
        "    Perform the Multiplicative Weights Exponential Mechanism (MWEM) algorithm.\n",
        "\n",
        "    Parameters:\n",
        "        D (pandas.DataFrame): The input data.\n",
        "        queries (list): List of queries to be performed in each iteration.\n",
        "            Each query is a tuple containing its query data (dataframe, i.e. `q`s) and the query function (i.e. `Q`s).\n",
        "        iterations (int): Number of iterations to perform.\n",
        "        get_i_max (function): Function to determine the index of the maximum query.\n",
        "            Signature: get_i_max(D, D_prev, queries) -> int\n",
        "        calc_correction (function): Function to calculate the correction factor for a query.\n",
        "            Signature: calc_correction(Query_max, D, D_prev) -> float\n",
        "\n",
        "    Returns:\n",
        "        pandas.DataFrame: The final result after performing the MWEM iterations.\n",
        "    \"\"\"\n",
        "    \n",
        "    D_prev = gen_first_guess(D)\n",
        "    Ds = [D_prev]\n",
        "    for i in range(1, iterations):\n",
        "        q, Q = queries[get_i_max(D, D_prev, queries)]\n",
        "        error = calc_correction(Q, D, D_prev)\n",
        "        D_i = D_prev * np.exp(q * error / 2)\n",
        "        Ds.append(D_i/D_i.values.sum())\n",
        "    return sum(Ds)/iterations\n",
        "\n"
      ]
    },
    {
      "cell_type": "markdown",
      "metadata": {
        "id": "me1_AZqjTyk4"
      },
      "source": [
        "We can now instantiate `MWEM_base` in the definition of `MWEM_nonDP` using the previously defined functions:"
      ]
    },
    {
      "cell_type": "code",
      "execution_count": 13,
      "metadata": {
        "id": "1LpMpksrW9rj"
      },
      "outputs": [
        {
          "data": {
            "text/html": [
              "<div>\n",
              "<style scoped>\n",
              "    .dataframe tbody tr th:only-of-type {\n",
              "        vertical-align: middle;\n",
              "    }\n",
              "\n",
              "    .dataframe tbody tr th {\n",
              "        vertical-align: top;\n",
              "    }\n",
              "\n",
              "    .dataframe thead th {\n",
              "        text-align: right;\n",
              "    }\n",
              "</style>\n",
              "<table border=\"1\" class=\"dataframe\">\n",
              "  <thead>\n",
              "    <tr style=\"text-align: right;\">\n",
              "      <th></th>\n",
              "      <th>col_0</th>\n",
              "      <th>Norm_count</th>\n",
              "    </tr>\n",
              "    <tr>\n",
              "      <th>Age</th>\n",
              "      <th>Occupation</th>\n",
              "      <th></th>\n",
              "    </tr>\n",
              "  </thead>\n",
              "  <tbody>\n",
              "    <tr>\n",
              "      <th rowspan=\"5\" valign=\"top\">17</th>\n",
              "      <th>Adm-clerical</th>\n",
              "      <td>0.001171</td>\n",
              "    </tr>\n",
              "    <tr>\n",
              "      <th>Craft-repair</th>\n",
              "      <td>0.001201</td>\n",
              "    </tr>\n",
              "    <tr>\n",
              "      <th>Exec-managerial</th>\n",
              "      <td>0.001201</td>\n",
              "    </tr>\n",
              "    <tr>\n",
              "      <th>Farming-fishing</th>\n",
              "      <td>0.001171</td>\n",
              "    </tr>\n",
              "    <tr>\n",
              "      <th>Handlers-cleaners</th>\n",
              "      <td>0.001201</td>\n",
              "    </tr>\n",
              "    <tr>\n",
              "      <th>...</th>\n",
              "      <th>...</th>\n",
              "      <td>...</td>\n",
              "    </tr>\n",
              "    <tr>\n",
              "      <th rowspan=\"5\" valign=\"top\">90</th>\n",
              "      <th>Other-service</th>\n",
              "      <td>0.001201</td>\n",
              "    </tr>\n",
              "    <tr>\n",
              "      <th>Prof-specialty</th>\n",
              "      <td>0.001171</td>\n",
              "    </tr>\n",
              "    <tr>\n",
              "      <th>Protective-serv</th>\n",
              "      <td>0.001201</td>\n",
              "    </tr>\n",
              "    <tr>\n",
              "      <th>Sales</th>\n",
              "      <td>0.001201</td>\n",
              "    </tr>\n",
              "    <tr>\n",
              "      <th>Transport-moving</th>\n",
              "      <td>0.001201</td>\n",
              "    </tr>\n",
              "  </tbody>\n",
              "</table>\n",
              "<p>843 rows × 1 columns</p>\n",
              "</div>"
            ],
            "text/plain": [
              "col_0                  Norm_count\n",
              "Age Occupation                   \n",
              "17  Adm-clerical         0.001171\n",
              "    Craft-repair         0.001201\n",
              "    Exec-managerial      0.001201\n",
              "    Farming-fishing      0.001171\n",
              "    Handlers-cleaners    0.001201\n",
              "...                           ...\n",
              "90  Other-service        0.001201\n",
              "    Prof-specialty       0.001171\n",
              "    Protective-serv      0.001201\n",
              "    Sales                0.001201\n",
              "    Transport-moving     0.001201\n",
              "\n",
              "[843 rows x 1 columns]"
            ]
          },
          "execution_count": 13,
          "metadata": {},
          "output_type": "execute_result"
        }
      ],
      "source": [
        "def MWEM_nonDP(D, queries, iterations):\n",
        "    return MWEM_base(D, queries, iterations, get_i_max_nonDP, calc_correction_nonDP)\n",
        "\n",
        "MWEM_result = MWEM_nonDP(D, Qs, 20)\n",
        "\n",
        "MWEM_result"
      ]
    },
    {
      "cell_type": "code",
      "execution_count": 14,
      "metadata": {
        "id": "PMhui5WSZHra"
      },
      "outputs": [],
      "source": [
        "# TEST\n",
        "\n",
        "assert MWEM_result.shape == D.shape\n",
        "assert np.isclose(MWEM_result.values.sum(), 1.0)"
      ]
    },
    {
      "cell_type": "markdown",
      "metadata": {
        "id": "TO4bHvHVZRzj"
      },
      "source": [
        "## Question 6 (8 points)\n",
        "\n",
        "The following code-block shows the implementation of the exponential mechanism. Use `exponential` and `laplace_mech` to implement `get_i_max_DP` and `calc_correction_DP`, the differentially-private counterparts of the functions implemented in Question 4. Since these functions must receive the sensitivity and the epsilon and return the expected function by `MWEM_base`, e.g. `get_i_max_DP` is a function that takes `sensitivity` and `epsilon` and returns a new function that receives `D`, `D_prev` and `queries`."
      ]
    },
    {
      "cell_type": "code",
      "execution_count": 15,
      "metadata": {
        "id": "gmSiG6rZaUyM"
      },
      "outputs": [],
      "source": [
        "def exponential(x, R, u, sensitivity, epsilon):\n",
        "    # Calculate the score for each element of R\n",
        "    scores = [u(x, r) for r in R]\n",
        "\n",
        "    # Calculate the probability for each element, based on its score\n",
        "    factors = [epsilon * score / (2 * sensitivity) for score in scores]\n",
        "    probabilities = [np.exp(factor) for factor in factors]\n",
        "\n",
        "    # Normalize the probabilties so they sum up to 1\n",
        "    p_sum = sum(probabilities)\n",
        "    probabilities = [float(p_i) / p_sum for p_i in probabilities]\n",
        "\n",
        "    # Choose an element from R based on the probabilities\n",
        "    return np.random.choice(R, 1, p=probabilities)[0]"
      ]
    },
    {
      "cell_type": "code",
      "execution_count": null,
      "metadata": {
        "id": "9fAgDj1pXKmk"
      },
      "outputs": [],
      "source": [
        "def get_i_max_DP(sensitivity, epsilon):\n",
        "    def get_index(D, D_prev, queries):\n",
        "        def calc_error(_, i):\n",
        "            _, Q = queries[i]\n",
        "            return abs(Q(D) - Q(D_prev))\n",
        "\n",
        "        list_index = list(range(len(queries)))\n",
        "        return exponential(None, list_index, calc_error, sensitivity, epsilon)\n",
        "\n",
        "    return get_index"
      ]
    },
    {
      "cell_type": "code",
      "execution_count": 17,
      "metadata": {
        "id": "q9dTQkpPXL6r"
      },
      "outputs": [],
      "source": [
        "def calc_correction_DP(sensitivity, epsilon):\n",
        "    def calc_error(Q, D, D_prev):\n",
        "        error = Q(D) - Q(D_prev)\n",
        "        return laplace_mech(error, sensitivity, epsilon)\n",
        "    return calc_error"
      ]
    },
    {
      "cell_type": "code",
      "execution_count": 19,
      "metadata": {
        "id": "pm9g7eNDZX8_"
      },
      "outputs": [],
      "source": [
        "# Test\n",
        "\n",
        "epsilon_test = 1.0\n",
        "\n",
        "assert get_i_max_DP(1, epsilon_test)(D, D_prev_test, Qs) < len(Qs)"
      ]
    },
    {
      "cell_type": "markdown",
      "metadata": {
        "id": "XoKFYU_aHnr4"
      },
      "source": [
        "## Question 7 (6 points)\n",
        "\n",
        "We can finally define `MWEM_DP` by instantiating `MWEM_base` with our differentially private definitions:"
      ]
    },
    {
      "cell_type": "code",
      "execution_count": 53,
      "metadata": {
        "collapsed": true,
        "id": "edkGTx5BH2YC"
      },
      "outputs": [
        {
          "data": {
            "text/html": [
              "<div>\n",
              "<style scoped>\n",
              "    .dataframe tbody tr th:only-of-type {\n",
              "        vertical-align: middle;\n",
              "    }\n",
              "\n",
              "    .dataframe tbody tr th {\n",
              "        vertical-align: top;\n",
              "    }\n",
              "\n",
              "    .dataframe thead th {\n",
              "        text-align: right;\n",
              "    }\n",
              "</style>\n",
              "<table border=\"1\" class=\"dataframe\">\n",
              "  <thead>\n",
              "    <tr style=\"text-align: right;\">\n",
              "      <th></th>\n",
              "      <th>col_0</th>\n",
              "      <th>Norm_count</th>\n",
              "    </tr>\n",
              "    <tr>\n",
              "      <th>Age</th>\n",
              "      <th>Occupation</th>\n",
              "      <th></th>\n",
              "    </tr>\n",
              "  </thead>\n",
              "  <tbody>\n",
              "    <tr>\n",
              "      <th rowspan=\"5\" valign=\"top\">17</th>\n",
              "      <th>Adm-clerical</th>\n",
              "      <td>0.001262</td>\n",
              "    </tr>\n",
              "    <tr>\n",
              "      <th>Craft-repair</th>\n",
              "      <td>0.001105</td>\n",
              "    </tr>\n",
              "    <tr>\n",
              "      <th>Exec-managerial</th>\n",
              "      <td>0.001235</td>\n",
              "    </tr>\n",
              "    <tr>\n",
              "      <th>Farming-fishing</th>\n",
              "      <td>0.001126</td>\n",
              "    </tr>\n",
              "    <tr>\n",
              "      <th>Handlers-cleaners</th>\n",
              "      <td>0.001185</td>\n",
              "    </tr>\n",
              "    <tr>\n",
              "      <th>...</th>\n",
              "      <th>...</th>\n",
              "      <td>...</td>\n",
              "    </tr>\n",
              "    <tr>\n",
              "      <th rowspan=\"5\" valign=\"top\">90</th>\n",
              "      <th>Other-service</th>\n",
              "      <td>0.001120</td>\n",
              "    </tr>\n",
              "    <tr>\n",
              "      <th>Prof-specialty</th>\n",
              "      <td>0.001199</td>\n",
              "    </tr>\n",
              "    <tr>\n",
              "      <th>Protective-serv</th>\n",
              "      <td>0.001140</td>\n",
              "    </tr>\n",
              "    <tr>\n",
              "      <th>Sales</th>\n",
              "      <td>0.001172</td>\n",
              "    </tr>\n",
              "    <tr>\n",
              "      <th>Transport-moving</th>\n",
              "      <td>0.001284</td>\n",
              "    </tr>\n",
              "  </tbody>\n",
              "</table>\n",
              "<p>843 rows × 1 columns</p>\n",
              "</div>"
            ],
            "text/plain": [
              "col_0                  Norm_count\n",
              "Age Occupation                   \n",
              "17  Adm-clerical         0.001262\n",
              "    Craft-repair         0.001105\n",
              "    Exec-managerial      0.001235\n",
              "    Farming-fishing      0.001126\n",
              "    Handlers-cleaners    0.001185\n",
              "...                           ...\n",
              "90  Other-service        0.001120\n",
              "    Prof-specialty       0.001199\n",
              "    Protective-serv      0.001140\n",
              "    Sales                0.001172\n",
              "    Transport-moving     0.001284\n",
              "\n",
              "[843 rows x 1 columns]"
            ]
          },
          "execution_count": 53,
          "metadata": {},
          "output_type": "execute_result"
        }
      ],
      "source": [
        "def MWEM_DP(D, queries, iterations, epsilon):\n",
        "    return MWEM_base(D, queries, iterations, get_i_max_DP(1, epsilon / (2 * iterations)), calc_correction_DP(1, epsilon / (2 * iterations)))\n",
        "\n",
        "# Just testing that it runs; no meaningful choice of #iterations or epsilon here.\n",
        "DP_MWEM_result = MWEM_DP(D, Qs, 20, 80.0)\n",
        "\n",
        "DP_MWEM_result"
      ]
    },
    {
      "cell_type": "markdown",
      "metadata": {
        "id": "9igyNkiUH6kf"
      },
      "source": [
        "If you have succesfully implemented MWEM (private and non-private) the following code should plot the responses for 40 new random queries, applied to the original dataframe, and the generated dataframes:"
      ]
    },
    {
      "cell_type": "code",
      "execution_count": 54,
      "metadata": {
        "id": "IzB68GhqpReD"
      },
      "outputs": [
        {
          "data": {
            "image/png": "[encoded data removed]",
            "text/plain": [
              "<Figure size 640x480 with 1 Axes>"
            ]
          },
          "metadata": {},
          "output_type": "display_data"
        }
      ],
      "source": [
        "# Test how MWEM and DP-MWEM generalize\n",
        "\n",
        "qs_test = generate_n_qweights(D, 40)\n",
        "Qs_test = [generate_query_from_qweigth(q) for q in qs_test]\n",
        "\n",
        "indexes = range(0, len(qs_test))\n",
        "real_answers = [Q_i(D) for (_, Q_i) in Qs_test]\n",
        "mwem_answers = [Q_i(MWEM_result) for (_, Q_i) in Qs_test]\n",
        "dp_mwem_answers = [Q_i(DP_MWEM_result) for (_, Q_i) in Qs_test]\n",
        "\n",
        "plt.plot(indexes, real_answers, label=\"Real answers\")\n",
        "plt.plot(indexes, mwem_answers, label=\"MWEM answers\")\n",
        "plt.plot(indexes, dp_mwem_answers, label=\"DP MWEM answers\")\n",
        "\n",
        "plt.legend()\n",
        "plt.show()"
      ]
    },
    {
      "cell_type": "markdown",
      "metadata": {
        "id": "cUFcZGReIanG"
      },
      "source": [
        "- In a few sentences, and based on the previous plot, how would you describe the accuracy of the MWEM mechanism (both the private and non-private versions)?\n",
        "- Why do you think it is sensible to generate 40 new queries instead of using the queries we already had?\n",
        "- Notice that when we instantiated `get_i_max_DP` and `calc_correction_DP`, we specified a sensitivity of $1$ for our queries. Justify this decision."
      ]
    },
    {
      "cell_type": "markdown",
      "metadata": {},
      "source": [
        "**Respuestas**\n",
        "- Lo que debería ocurrir es que MWEM no DP se acerque más a los datos reales y que MWEM DP tenga más error. En este caso, no es tan así y puede deberse a que el badget de privacidad es grande y las iteraciones son muy pocas lo cual también afecta a que ambas versiones tengan resultados parecidos.\n",
        "- Porque así se evita que el mecanismo se sobreajuste a los datos reales y se mide una capacidad más realista del mismo.\n",
        "- Por un lado porque es una counting query y además fijamos el peso en 0-1. A pesar de que esté normalizado al agregar un elemento al dataset cambiaría el resultado de la query en no más que 1."
      ]
    },
    {
      "cell_type": "markdown",
      "metadata": {
        "id": "Rf64r214JZvI"
      },
      "source": [
        "## Question 8 (10 points)\n",
        "\n",
        "The following code generates a plot that shows how the number of iterations in MWEM (non-private) affects the similarity between the original dataframe and the generated one:"
      ]
    },
    {
      "cell_type": "code",
      "execution_count": 57,
      "metadata": {
        "id": "xI00JX4AJ73B"
      },
      "outputs": [
        {
          "data": {
            "text/plain": [
              "[<matplotlib.lines.Line2D at 0x2245b1fc190>]"
            ]
          },
          "execution_count": 57,
          "metadata": {},
          "output_type": "execute_result"
        },
        {
          "data": {
            "image/png": "[encoded data removed]",
            "text/plain": [
              "<Figure size 640x480 with 1 Axes>"
            ]
          },
          "metadata": {},
          "output_type": "display_data"
        }
      ],
      "source": [
        "# KL divergence is a measure that can be used to measure the distance between\n",
        "# two probability distributions\n",
        "def KLdiv(P, Q):\n",
        "    return (P * np.log(P / Q)).values.sum()\n",
        "\n",
        "iterations = range(1, 150, 20)\n",
        "\n",
        "errors_per_iteration = [KLdiv(D, MWEM_nonDP(D, Qs, iteration)) for iteration in iterations]\n",
        "\n",
        "plt.xlabel(\"n iterations\")\n",
        "plt.ylabel(\"Error Absoluto\")\n",
        "plt.plot(iterations, errors_per_iteration)"
      ]
    },
    {
      "cell_type": "markdown",
      "metadata": {
        "id": "ojzV_tP_KSmB"
      },
      "source": [
        "- Describe the results showed in the figure\n",
        "- In a few sentences, provide an intuition for such behavior"
      ]
    },
    {
      "cell_type": "markdown",
      "metadata": {},
      "source": [
        "**Respuestas**\n",
        "- Inicialmente el error es grande y llegado a un número de iteraciones disminuye llegando a un nivel de error estable.\n",
        "- Esto podría explicarse debido a que inicialmente los pesos otorgados a los registros no sean del todo correcto, pero llegado a un punto el algoritmo converge (en este punto se espera que los pesos asignados generen resultados muy cercanos a los reales) y desde ese punto un ajuste en los pesos genera un cambio menor."
      ]
    },
    {
      "cell_type": "markdown",
      "metadata": {
        "id": "DIIbLV2AKkAk"
      },
      "source": [
        "The following shows the same information as above but now for the DP version of MWEM:\n"
      ]
    },
    {
      "cell_type": "code",
      "execution_count": 58,
      "metadata": {
        "id": "LAE3T-30LA2-"
      },
      "outputs": [
        {
          "data": {
            "text/plain": [
              "[<matplotlib.lines.Line2D at 0x2245b22f750>]"
            ]
          },
          "execution_count": 58,
          "metadata": {},
          "output_type": "execute_result"
        },
        {
          "data": {
            "image/png": "[encoded data removed]",
            "text/plain": [
              "<Figure size 640x480 with 1 Axes>"
            ]
          },
          "metadata": {},
          "output_type": "display_data"
        }
      ],
      "source": [
        "epsilon = 20.0\n",
        "\n",
        "iterations = range(1, 150, 20)\n",
        "\n",
        "errors_per_iteration_DP = [KLdiv(D, MWEM_DP(D, Qs, iteration, epsilon)) for iteration in iterations]\n",
        "\n",
        "plt.xlabel(\"n iterations\")\n",
        "plt.ylabel(\"Error Absoluto\")\n",
        "plt.plot(iterations, errors_per_iteration_DP)"
      ]
    },
    {
      "cell_type": "markdown",
      "metadata": {
        "id": "i2UGiR5wLdMy"
      },
      "source": [
        "- Compare the two figures. What does it change?\n",
        "- Why do you think we did not obtain the same behavior as before?\n",
        "- (Without modifying the code) what should you change in order to \"recover\" the behavior of the previous figure?"
      ]
    },
    {
      "cell_type": "markdown",
      "metadata": {},
      "source": [
        "**Respuestas**\n",
        "- Los errores son un poco mayores en el caso DP. El comportamiento pareciera ser más errático (con esto me refiero a que no hay una zona de disminución/aumento y luego estabilización).\n",
        "- Esto podría deberse principalmente al ruido agregado.\n",
        "- Aumentar epsilon, así se agregaría menos ruido. "
      ]
    },
    {
      "cell_type": "markdown",
      "metadata": {
        "id": "0f5FdVlmMQWF"
      },
      "source": [
        "## Question 9 (4 points)\n",
        "\n",
        "Finally, write the necessary code (similar to the code blocks above 🙄) to plot how the DP MWEM reacts to different privacy budgets for a fixed number of iterations (20):"
      ]
    },
    {
      "cell_type": "code",
      "execution_count": 59,
      "metadata": {
        "id": "LJ50rQ50MoLY"
      },
      "outputs": [
        {
          "data": {
            "text/plain": [
              "[<matplotlib.lines.Line2D at 0x2245a091590>]"
            ]
          },
          "execution_count": 59,
          "metadata": {},
          "output_type": "execute_result"
        },
        {
          "data": {
            "image/png": "[encoded data removed]",
            "text/plain": [
              "<Figure size 640x480 with 1 Axes>"
            ]
          },
          "metadata": {},
          "output_type": "display_data"
        }
      ],
      "source": [
        "epsilons =  [0.5, 0.8, 1, 2, 4, 8, 16, 32, 64]\n",
        "\n",
        "iterations = 20\n",
        "\n",
        "errors_per_eps_DP = [KLdiv(D, MWEM_DP(D, Qs, iterations, ep)) for ep in epsilons]\n",
        "\n",
        "plt.xlabel(\"epsilon\")\n",
        "plt.ylabel(\"Error Absoluto\")\n",
        "plt.plot(epsilons, errors_per_eps_DP)"
      ]
    },
    {
      "cell_type": "markdown",
      "metadata": {
        "id": "rFlBp3QqMxd-"
      },
      "source": [
        "- Based on the figure, what do you think is a \"good\" privacy budget **per iteration** for our dataframe? Explain your reasoning.\n",
        "- Is your \"good\" budget-per-iteration similar to the one used in Q7? Is it smaller or bigger? Justify or argue against the budget used in Q7."
      ]
    },
    {
      "cell_type": "markdown",
      "metadata": {},
      "source": [
        "**Respuestas**\n",
        "- Si quisieramos el mínimo posible para obtener un error no tan alto sería entre 10 y 20 (16 aprox) ya que en este punto la pendiente de la curva se hace menor, entonces la reducción marginal del error es menor.\n",
        "- Mi buen epsilon es mucho menor que el de la Q7 y para cada iteración se tendría un epsilon un poco menor a 1, en cambio en la Q7 se tenía 4 por cada iteración. Para el epsilon usado en la Q7 se tiene un menor ruido pero eso también implica una menor privacidad, por lo cual es necesario disminuir ese valor considerando un trade off entre privacidad y utilidad."
      ]
    }
  ],
  "metadata": {
    "colab": {
      "provenance": []
    },
    "kernelspec": {
      "display_name": "cc5213",
      "language": "python",
      "name": "python3"
    },
    "language_info": {
      "codemirror_mode": {
        "name": "ipython",
        "version": 3
      },
      "file_extension": ".py",
      "mimetype": "text/x-python",
      "name": "python",
      "nbconvert_exporter": "python",
      "pygments_lexer": "ipython3",
      "version": "3.13.3"
    }
  },
  "nbformat": 4,
  "nbformat_minor": 0
}
