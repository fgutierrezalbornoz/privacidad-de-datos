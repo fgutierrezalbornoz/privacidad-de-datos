{
  "cells": [
    {
      "cell_type": "markdown",
      "metadata": {
        "id": "7X7ZwNViRWmT"
      },
      "source": [
        "# CC5215: Privacidad de Datos\n",
        "\n",
        "## Laboratorio 7\n",
        "\n",
        "Integrantes:\n",
        "\n",
        "Francisco Gutiérrez Albornoz"
      ]
    },
    {
      "cell_type": "code",
      "execution_count": 24,
      "metadata": {
        "id": "9JmjcAJRRWmW"
      },
      "outputs": [],
      "source": [
        "# Load the data and libraries\n",
        "import pandas as pd\n",
        "import numpy as np\n",
        "import random\n",
        "import matplotlib.pyplot as plt\n",
        "\n",
        "def laplace_mech(v, sensitivity, epsilon):\n",
        "    return v + np.random.laplace(loc=0, scale=sensitivity / epsilon)\n",
        "\n",
        "def pct_error(orig, priv):\n",
        "    return np.abs(orig - priv)/orig * 100.0\n",
        "\n",
        "barbie_ratings = pd.read_csv('https://users.dcc.uchile.cl/~darquez/barbie_ratings.csv')\n",
        "\n",
        "# YOU MAY USE THIS VARIABLES LATER\n",
        "ratings = barbie_ratings['rating']\n",
        "weights = barbie_ratings['weight']"
      ]
    },
    {
      "cell_type": "markdown",
      "metadata": {
        "id": "6xGQeIFqjtjv"
      },
      "source": [
        "## Introduction\n",
        "\n",
        "In this lab we will work with a dataset of user ratings for the Barbie movie. In particular, we will try out different methods of making a weighted average of the ratings private."
      ]
    },
    {
      "cell_type": "code",
      "execution_count": 25,
      "metadata": {
        "colab": {
          "base_uri": "https://localhost:8080/",
          "height": 206
        },
        "id": "0bgPBSKakOmZ",
        "outputId": "81afe092-35b3-4755-e605-88ed12ee1d98"
      },
      "outputs": [
        {
          "data": {
            "text/html": [
              "<div>\n",
              "<style scoped>\n",
              "    .dataframe tbody tr th:only-of-type {\n",
              "        vertical-align: middle;\n",
              "    }\n",
              "\n",
              "    .dataframe tbody tr th {\n",
              "        vertical-align: top;\n",
              "    }\n",
              "\n",
              "    .dataframe thead th {\n",
              "        text-align: right;\n",
              "    }\n",
              "</style>\n",
              "<table border=\"1\" class=\"dataframe\">\n",
              "  <thead>\n",
              "    <tr style=\"text-align: right;\">\n",
              "      <th></th>\n",
              "      <th>rating</th>\n",
              "      <th>weight</th>\n",
              "    </tr>\n",
              "  </thead>\n",
              "  <tbody>\n",
              "    <tr>\n",
              "      <th>0</th>\n",
              "      <td>4</td>\n",
              "      <td>2</td>\n",
              "    </tr>\n",
              "    <tr>\n",
              "      <th>1</th>\n",
              "      <td>10</td>\n",
              "      <td>1</td>\n",
              "    </tr>\n",
              "    <tr>\n",
              "      <th>2</th>\n",
              "      <td>5</td>\n",
              "      <td>4</td>\n",
              "    </tr>\n",
              "    <tr>\n",
              "      <th>3</th>\n",
              "      <td>6</td>\n",
              "      <td>2</td>\n",
              "    </tr>\n",
              "    <tr>\n",
              "      <th>4</th>\n",
              "      <td>5</td>\n",
              "      <td>2</td>\n",
              "    </tr>\n",
              "  </tbody>\n",
              "</table>\n",
              "</div>"
            ],
            "text/plain": [
              "   rating  weight\n",
              "0       4       2\n",
              "1      10       1\n",
              "2       5       4\n",
              "3       6       2\n",
              "4       5       2"
            ]
          },
          "execution_count": 25,
          "metadata": {},
          "output_type": "execute_result"
        }
      ],
      "source": [
        "barbie_ratings.head()"
      ]
    },
    {
      "cell_type": "markdown",
      "metadata": {
        "id": "UinIBswF7tMT"
      },
      "source": [
        "The dataset `barbie_ratings` has two columns: (1) `rating` which correspond to a rating given by a particular viewer, between 1 and 10; and (2) `weight` which corresponds to the importance of the given rating, between 1 and 4, based on previous data about the user (usefulness of other ratings, peer-voting, etc).\n",
        "\n",
        "**IMPORTANT: Through this lab, it is not necessary that you manually clip the data to the aforementioned bounds. The data is already compliant with the bounds.**"
      ]
    },
    {
      "cell_type": "code",
      "execution_count": 26,
      "metadata": {
        "id": "HECMFt9fspPk"
      },
      "outputs": [],
      "source": [
        "## You may use this variables later:\n",
        "\n",
        "# Upper bound for ratings\n",
        "u = 10\n",
        "\n",
        "# Upper bound for weights\n",
        "wu = 4"
      ]
    },
    {
      "cell_type": "markdown",
      "metadata": {
        "id": "hroFPGc1iYAv"
      },
      "source": [
        "## Question 1 (4 points)\n",
        "\n",
        "The weighted average formula is defined as:\n",
        "\n",
        "$$\n",
        "\\frac{\\sum_{i=1}^n w_i * x_i}{\\sum_{i=1}^n w_i}\n",
        "$$\n",
        "\n",
        "Where $w_i$ and $x_i$ in the ratings dataset corresponds to the the weight and rating of viewer $i$ respectively.\n",
        "(Notice that when all the weights $w_i$ are $1$, the weighted average is equivalent to the regular average)\n",
        "\n",
        "**Write a function that calculates the weighted average of a dataset**:"
      ]
    },
    {
      "cell_type": "code",
      "execution_count": 27,
      "metadata": {
        "id": "O3D3wSd3l2a_"
      },
      "outputs": [
        {
          "data": {
            "text/plain": [
              "np.float64(5.484507042253521)"
            ]
          },
          "execution_count": 27,
          "metadata": {},
          "output_type": "execute_result"
        }
      ],
      "source": [
        "def weighted_avg(data, weights):\n",
        "    \"\"\"\n",
        "        Parameters:\n",
        "            data (pd.Series): The data to average\n",
        "            weights (pd.Series): The weights to calculate the average\n",
        "        Returns:\n",
        "            The `weights`-weighted average of `data`\n",
        "    \"\"\"\n",
        "    sum_w_x = sum([ data.iloc[i]*weights.iloc[i] for i in range(len(data))])\n",
        "    sum_w = weights.sum()\n",
        "    return sum_w_x / sum_w\n",
        "\n",
        "\n",
        "\n",
        "weighted_avg(ratings, weights)"
      ]
    },
    {
      "cell_type": "markdown",
      "metadata": {
        "id": "55XNs0SBmYI9"
      },
      "source": [
        "## Question 2 (6 points)\n",
        "\n",
        "Write a differentially private version of `weighted_avg`, using global sensitivity."
      ]
    },
    {
      "cell_type": "code",
      "execution_count": 28,
      "metadata": {
        "id": "QuH0cSQNm6H5"
      },
      "outputs": [
        {
          "data": {
            "text/plain": [
              "np.float64(5.290797939699224)"
            ]
          },
          "execution_count": 28,
          "metadata": {},
          "output_type": "execute_result"
        }
      ],
      "source": [
        "s_wx = 40\n",
        "s_w = 4\n",
        "def gs_weighted_avg(data, weights, data_ub, weight_ub, epsilon):\n",
        "    \"\"\"\n",
        "        Parameters:\n",
        "            data (pd.Series): The data to average\n",
        "            weights (pd.Series): The weights to calculate the average\n",
        "            data_ub (int): The upper bound of the target column\n",
        "            weight_ub (int): The upper bound of the weight column\n",
        "            epsilon (float): The privacy budget\n",
        "        Returns:\n",
        "           The private `weights`-weighted average of `data`\n",
        "    \"\"\"\n",
        "    weights_clipped = weights.clip(upper=weight_ub)\n",
        "    data_clipped = data.clip(upper=data_ub)\n",
        "    sum_w_x = sum([ data_clipped.iloc[i]*weights_clipped.iloc[i] for i in range(len(data))])\n",
        "    sum_w = weights_clipped.sum()\n",
        "    sum_w_x_dp = laplace_mech(sum_w_x, s_wx, epsilon / 2) #40 porque el max w es 4 y max x es 10 \n",
        "    sum_w_dp = laplace_mech(sum_w, s_w, epsilon / 2)\n",
        "    return sum_w_x_dp / sum_w_dp\n",
        "gs_weighted_avg(ratings, weights, u, wu, 0.1)"
      ]
    },
    {
      "cell_type": "markdown",
      "metadata": {
        "id": "Pnont5rkm92c"
      },
      "source": [
        "**Explain why your implementation is `epsilon`-DP**."
      ]
    },
    {
      "cell_type": "markdown",
      "metadata": {
        "id": "mWjaE-79nIWw"
      },
      "source": [
        "Porque utilizo composición secuencial para calcular la suma de $w*x$ y $w$ considerando privacidad diferencial, cada suma utiliza $\\epsilon /2$."
      ]
    },
    {
      "cell_type": "markdown",
      "metadata": {
        "id": "lUogUQ8joWFH"
      },
      "source": [
        "## Question 3 (6 points)\n",
        "\n",
        "Calculate the local sensitivity of the weighted average.\n"
      ]
    },
    {
      "cell_type": "markdown",
      "metadata": {
        "id": "rAwP4fI2pDxB"
      },
      "source": [
        "YOUR ANSWER:\n",
        "\n",
        "(Complete the following)\n",
        "\n",
        "Given\n",
        "$$\n",
        "f(x, w) = \\frac{\\sum_{i=1}^n w_i * x_i}{\\sum_{i=1}^n w_i}\n",
        "$$\n",
        "\n",
        "If we add a row:\n",
        "\n",
        "$$\n",
        "\\begin{align}\n",
        "|f(x, w) - f(x', w')| &= \\left | \\frac{u_w * u_x + \\sum_{i=1}^n w_i * x_i}{u_w + \\sum_{i=1}^n w_i} - \\frac{\\sum_{i=1}^n w_i * x_i}{\\sum_{i=1}^n w_i} \\right | \\\\\n",
        "                      &\\leq \\left | \\frac{u_w * u_x + \\sum_{i=1}^n w_i * x_i}{u_w + \\sum_{i=1}^n w_i} - \\frac{\\sum_{i=1}^n w_i * x_i}{ u_w + \\sum_{i=1}^n w_i} \\right | \\\\\n",
        "                      &= \\left | \\frac{u_w * u_x}{u_w + \\sum_{i=1}^n w_i} \\right |\n",
        "\\end{align}\n",
        "$$\n",
        "\n",
        "donde $u_w$ y $u_x$ son los upper bounds para el $w$ y $x$ respectivamente."
      ]
    },
    {
      "cell_type": "markdown",
      "metadata": {
        "id": "UHiLR-N2q_4j"
      },
      "source": [
        "## Question 4 (9 points)\n",
        "\n",
        "As we saw in class, even though local sensitivity gives us a better upper bound than global sensitivity, we cannot directly use it with the mechanisms we have seen (e.g. laplace).\n",
        "\n",
        "We will implement the Propose-Test-Release method for calculating a private weighted average of `barbie_ratings`. In order to do that, follow the next steps:"
      ]
    },
    {
      "cell_type": "markdown",
      "metadata": {
        "id": "X-fFteTtrtni"
      },
      "source": [
        "1. Implement a function to compute the *Maximum Local Sensitivity* at distance k:"
      ]
    },
    {
      "cell_type": "code",
      "execution_count": 29,
      "metadata": {
        "id": "wKs1MklosPSc"
      },
      "outputs": [],
      "source": [
        "def ls_at_distance(target_ub, weight_ub, W, k):\n",
        "    \"\"\"\n",
        "        Parameters:\n",
        "            target_ub (int): The upper bound of the target column\n",
        "            weight_ub (int): The upper bound of the weight column\n",
        "            W (int): The sum of the weights of the origin dataframe\n",
        "            k (int): The number of steps away from the origin dataframe\n",
        "        Returns:\n",
        "            The maximized local sensitivity between `df` and a dataframe at `k` steps\n",
        "    \"\"\"\n",
        "    return np.abs(target_ub * weight_ub / (W - k * weight_ub))"
      ]
    },
    {
      "cell_type": "markdown",
      "metadata": {
        "id": "3SDcHKLuvTaF"
      },
      "source": [
        "2. Implement a function to find the minimum number of steps to achieve a local sensitivity of at least $b$:\n",
        "\n",
        "*Hint: Start by trying with $k=0$, and increment $k$ until the threshold of $b$ is achieved*"
      ]
    },
    {
      "cell_type": "code",
      "execution_count": 30,
      "metadata": {
        "id": "DfnuYIV5vhl1"
      },
      "outputs": [],
      "source": [
        "def dist_to_high_ls(target_ub, weight_ub, W, b):\n",
        "    \"\"\"\n",
        "        Parameters:\n",
        "            target_ub (int): The upper bound of the target column\n",
        "            weight_ub (int): The upper bound of the weight column\n",
        "            W (int): The sum of the weights of the origin dataframe\n",
        "            b (float): The proposed bound on local sensitivity\n",
        "        Returns:\n",
        "            The minimum number of steps to achieve a local sensitivity of at least `b`\n",
        "    \"\"\"\n",
        "    k = 0\n",
        "    while ls_at_distance(target_ub, weight_ub, W, k) < b:\n",
        "        k+=1\n",
        "    return k"
      ]
    },
    {
      "cell_type": "markdown",
      "metadata": {
        "id": "6onKa_xpwv4Y"
      },
      "source": [
        "3. Implement the PTR version of weighted average:"
      ]
    },
    {
      "cell_type": "code",
      "execution_count": 31,
      "metadata": {
        "id": "OGTMpdIow4CA"
      },
      "outputs": [],
      "source": [
        "def ptr_weighted_avg(data, weights, data_ub, weight_ub, b, epsilon, delta):\n",
        "    \"\"\"\n",
        "        Parameters:\n",
        "            data    (pd.Series): The data to average\n",
        "            weights (pd.Series): The weights to calculate the average\n",
        "            data_ub (int): The upper bound of the target column\n",
        "            weight_ub (int): The upper bound of the weight column\n",
        "            b (float): The proposed bound on local sensitivity\n",
        "            epsilon, delta: The level of privacy\n",
        "        Returns:\n",
        "            The private weighted average using PTR\n",
        "    \"\"\"\n",
        "    data_clipped = data.clip(upper=data_ub)\n",
        "    weights_clipped = weights.clip(upper=weight_ub)\n",
        "    k = dist_to_high_ls(data_ub, weight_ub, weights_clipped.sum(), b)\n",
        "\n",
        "    noisy_distance = laplace_mech(k, 1, epsilon)\n",
        "    threshold = np.log(2 / delta) / (2 * epsilon)\n",
        "\n",
        "    if noisy_distance >= threshold:\n",
        "        return laplace_mech(weighted_avg(data_clipped, weights_clipped), b, epsilon)\n",
        "    return None"
      ]
    },
    {
      "cell_type": "code",
      "execution_count": 32,
      "metadata": {
        "id": "Dp0Qhf3N1Uxa"
      },
      "outputs": [
        {
          "data": {
            "text/plain": [
              "np.float64(5.496690531555193)"
            ]
          },
          "execution_count": 32,
          "metadata": {},
          "output_type": "execute_result"
        }
      ],
      "source": [
        "ptr_weighted_avg(ratings, weights, u, wu, 0.02, 1.0, 10e-6)"
      ]
    },
    {
      "cell_type": "markdown",
      "metadata": {
        "id": "91Ionxsn1N3h"
      },
      "source": [
        "## Question 5 (4 points)\n",
        "\n",
        "The following code plots the relative errors (against the real answer) of global sensitivity and PTR:"
      ]
    },
    {
      "cell_type": "code",
      "execution_count": 33,
      "metadata": {
        "id": "GufhM8ZHuWVE"
      },
      "outputs": [
        {
          "data": {
            "image/png": "[encoded data removed]",
            "text/plain": [
              "<Figure size 640x480 with 1 Axes>"
            ]
          },
          "metadata": {},
          "output_type": "display_data"
        }
      ],
      "source": [
        "epsilon = 1.0\n",
        "delta = 10e-6\n",
        "b = 0.05\n",
        "\n",
        "gs_errors = []\n",
        "ptr_errors = []\n",
        "\n",
        "real_avg = weighted_avg(ratings, weights)\n",
        "\n",
        "for i in range(200):\n",
        "    ptr_result = ptr_weighted_avg(ratings, weights, u, wu, b, epsilon, delta)\n",
        "\n",
        "    gs_result = gs_weighted_avg(ratings, weights, u, wu, epsilon)\n",
        "    gs_errors.append(pct_error(real_avg, gs_result))\n",
        "\n",
        "    if ptr_result is None:\n",
        "        continue\n",
        "\n",
        "    ptr_errors.append(pct_error(real_avg, ptr_result))\n",
        "\n",
        "_, bins, _ = plt.hist(gs_errors, label='Global sensitivity');\n",
        "plt.hist(ptr_errors, alpha=.7, label='PTR', bins=bins);\n",
        "plt.xlabel('Percent Error')\n",
        "plt.ylabel('Number of Trials')\n",
        "plt.legend();"
      ]
    },
    {
      "cell_type": "markdown",
      "metadata": {
        "id": "WMPnM7gdLAkY"
      },
      "source": [
        "1. Compare the accuracies of both methods. Which one is better? Explain how the plot helps justifying your analysis.\n",
        "2. What can you say about the parameter $b$, in terms of the usability of the PTR method? How does this aspect compare to the global sensitivity method?"
      ]
    },
    {
      "cell_type": "markdown",
      "metadata": {
        "id": "pwtW31scitA8"
      },
      "source": [
        "1. Los errores porcentuales asociados a GS están concentrados más cerca de 0 comparado con PTR. Para este último, se tiene un error más distribuido lo que significa que se agrega más ruido. Debido a esto sería mejor GS, en clases vimos lo contrario y puede deberse al valor dado para b.\n",
        "2. Es la máxima sensibilidad local permitida para aplicar el mecanismo de laplace en el método PTR. Con esto podemos evaluar si aceptar o no una consulta, en cambio con la sensibilidad global nunca se rechazan. Por esto, la sensibilidad global tiende a ser más robusta pero sobreestimar el ruido necesario."
      ]
    },
    {
      "cell_type": "markdown",
      "metadata": {
        "id": "v0XC9fkQLuDr"
      },
      "source": [
        "## Question 6 (3 points)\n",
        "\n",
        "Now, we will implement the weighted average using the Smooth Sensitivity framework.\n",
        "\n",
        "First, implement `smooth_ls_at_distance`, which calculates the local sensitivity at distance $k$, smoothed out by an exponential factor of $e^{-\\beta k}$:"
      ]
    },
    {
      "cell_type": "code",
      "execution_count": 34,
      "metadata": {
        "id": "9r_SI9iFMXnf"
      },
      "outputs": [],
      "source": [
        "def smooth_ls_at_distance(data_ub, weight_ub, W, k, beta):\n",
        "    \"\"\"\n",
        "        Parameters:\n",
        "            data_ub (int): The upper bound of the target column\n",
        "            weight_ub (int): The upper bound of the weight column\n",
        "            W (int): The sum of the weights of the origin dataframe\n",
        "            k (int): The number of steps away from the origin dataframe\n",
        "            beta (float): The smooth factor\n",
        "        Returns:\n",
        "            The smoothed local sensitivity at distance k\n",
        "    \"\"\"\n",
        "    return np.exp(- beta * k) * ls_at_distance(data_ub, weight_ub, W, k)"
      ]
    },
    {
      "cell_type": "markdown",
      "metadata": {
        "id": "Gva0jUgjPJwL"
      },
      "source": [
        "## Question 7 (2 points)\n",
        "\n",
        "1. What does the following graph shows?\n",
        "2. What information can we infer from this plot to help us implement a weighted average using smooth sensitivity?"
      ]
    },
    {
      "cell_type": "code",
      "execution_count": 35,
      "metadata": {
        "id": "T7QU4ETSM3Iw"
      },
      "outputs": [
        {
          "data": {
            "image/png": "[encoded data removed]",
            "text/plain": [
              "<Figure size 640x480 with 1 Axes>"
            ]
          },
          "metadata": {},
          "output_type": "display_data"
        }
      ],
      "source": [
        "beta = 0.05\n",
        "\n",
        "r = [smooth_ls_at_distance(u, wu, weights.sum(), k, beta) for k in range(0, 200)]\n",
        "\n",
        "plt.plot(r);\n",
        "plt.xlabel('Value of k')\n",
        "plt.ylabel('Smoothed-out Local Sensitivity');"
      ]
    },
    {
      "cell_type": "markdown",
      "metadata": {},
      "source": [
        "1. Se muestra cómo varía la sensibilidad local suave a medida que aumenta el k, es decir la distacia del dataset. Se observa que esta curva es estrictamente decreciente y por lo tanto su máximo valor es para $k=0$.\n",
        "2. Como la contribución para valores de k grandes es muy pequeña, basta con analizar valores pequeños de k (< 100 en este caso)."
      ]
    },
    {
      "cell_type": "markdown",
      "metadata": {
        "id": "20VBDfy0Pamu"
      },
      "source": [
        "## Question 8 (6 points)\n",
        "\n",
        "Implement the query using Smooth Sensitivity:"
      ]
    },
    {
      "cell_type": "code",
      "execution_count": null,
      "metadata": {
        "id": "yzrMdiL1i7uM"
      },
      "outputs": [
        {
          "data": {
            "text/plain": [
              "np.float64(5.390890184346727)"
            ]
          },
          "execution_count": 44,
          "metadata": {},
          "output_type": "execute_result"
        }
      ],
      "source": [
        "def ss_weighted_avg(data, weights, data_ub, weight_ub, epsilon, delta):\n",
        "    \"\"\"\n",
        "        Parameters:\n",
        "            data    (pd.Series): The data to average\n",
        "            weights (pd.Series): The weights to calculate the average\n",
        "            data_ub (int): The upper bound of the target column\n",
        "            weight_ub (int): The upper bound of the weight column\n",
        "            epsilon, delta: The level of privacy\n",
        "        Returns:\n",
        "            The private weighted average using Smooth Sensitivity\n",
        "    \"\"\"\n",
        "    data_clipped = data.clip(upper=data_ub)\n",
        "    weights_clipped = weights.clip(upper=weight_ub)\n",
        "    epsilon_beta = epsilon / 2\n",
        "    beta = epsilon_beta / (2 * np.log (2 / delta))\n",
        "    r = [smooth_ls_at_distance(u, wu, weights.sum(), k, beta) for k in range(0, len(data))]\n",
        "    S = np.max(r)\n",
        "    epsilon_laplace = epsilon - epsilon_beta\n",
        "    return laplace_mech(weighted_avg(data_clipped, weights_clipped), 2 * S, epsilon_laplace)\n",
        "\n",
        "ss_weighted_avg(ratings, weights, u, wu, epsilon, delta)"
      ]
    },
    {
      "cell_type": "markdown",
      "metadata": {
        "id": "DB4YF9CwP5Yq"
      },
      "source": [
        "## Question 9 (4 points)\n",
        "\n",
        "The following code plots the relative errors (against the real answer) of global sensitivity and Smooth Sensitivity:"
      ]
    },
    {
      "cell_type": "code",
      "execution_count": 47,
      "metadata": {
        "id": "hzYZFumTCkL0"
      },
      "outputs": [
        {
          "data": {
            "image/png": "[encoded data removed]",
            "text/plain": [
              "<Figure size 640x480 with 1 Axes>"
            ]
          },
          "metadata": {},
          "output_type": "display_data"
        }
      ],
      "source": [
        "gs_results  = [\n",
        "    pct_error(weighted_avg(ratings, weights),\n",
        "    gs_weighted_avg(ratings, weights, u, wu, epsilon)) for i in range(100)]\n",
        "ptr_results = [\n",
        "    pct_error(weighted_avg(ratings, weights),\n",
        "    ss_weighted_avg(ratings, weights, u, wu, epsilon, delta)) for i in range(100)]\n",
        "\n",
        "_, bins, _ = plt.hist(gs_results, label='Global sensitivity');\n",
        "plt.hist(ptr_results, alpha=.7, label='Smooth sensitivity', bins=bins);\n",
        "plt.xlabel('Percent Error')\n",
        "plt.ylabel('Number of Trials')\n",
        "plt.legend();"
      ]
    },
    {
      "cell_type": "markdown",
      "metadata": {
        "id": "O3xqJxi4i_DQ"
      },
      "source": [
        "1. Compare the accuracies of both methods. Explain how the plot helps justifying your analysis.\n",
        "2. What disadvantage has this method when comparing it with the global sensitivity approach?"
      ]
    },
    {
      "cell_type": "markdown",
      "metadata": {},
      "source": [
        "*Respuestas*\n",
        "1. Los errores observados son muy similares, smooth sensivity muestra una menor cantidad de errores porcentuales pequeños (cercanos a cero) comparado con global sensitivity. Esto indica una leve mejor precisión para global sensitivity.\n",
        "2. Computacionalmente es más costoso pues se itera sobre una gran cantidad de valores para $k$"
      ]
    },
    {
      "cell_type": "markdown",
      "metadata": {
        "id": "U42lvix6jwZi"
      },
      "source": [
        "## Question 10 (6 points)\n",
        "\n",
        "Let us define a function that receives $k$ results, computed from **disjoint** sets of data, and calculates the clipped (by $l$ and $u$) average between them as follows:\n",
        "\n",
        "$$\n",
        "g_{l,u}(x) = \\frac{\\sum^k_{i=1} \\mathsf{clip}(x_i, l, u)}{k}\n",
        "$$\n",
        "\n",
        "where $x$ is a vector that represent the average of each disjoint set of data.\n",
        "\n",
        "**Calculate the global sensitivity of $g_{l,u}$.**\n",
        "\n",
        "*Hint: Use the fact that the computations x_i are disjoint*"
      ]
    },
    {
      "cell_type": "markdown",
      "metadata": {
        "id": "IU0FB4pDRoi7"
      },
      "source": [
        "Complete:\n",
        "\n",
        "$$\n",
        "\\begin{align*}\n",
        "|g_{l,u}(x) - g_{l,u}(x')| &= \\left | \\frac{(u - l) + \\sum^k_{i=1} \\mathsf{clip}(x_i, l, u)}{k + 1} - \\frac{\\sum^k_{i=1} \\mathsf{clip}(x_i, l, u)}{k} \\right |\\\\\n",
        "                           &\\leq  \\left | \\frac{(u - l) + \\sum^k_{i=1} \\mathsf{clip}(x_i, l, u)}{k + 1} - \\frac{\\sum^k_{i=1} \\mathsf{clip}(x_i, l, u)}{k + 1} \\right | \\\\\n",
        "                           &= \\left | \\frac{u - l}{k + 1} \\right |\n",
        "\\end{align*}\n",
        "$$"
      ]
    },
    {
      "cell_type": "markdown",
      "metadata": {
        "id": "fg6VA4u3SJif"
      },
      "source": [
        "## Question 11 (6 points)\n",
        "\n",
        "Implement the Sample & Aggregate framework for weighted averages, using $g$ as your aggregation function.\n",
        "\n",
        "*Hint: Use the function `np.array_split` to divide the dataframe in $k$ chunks.*"
      ]
    },
    {
      "cell_type": "code",
      "execution_count": null,
      "metadata": {
        "id": "ZId4rP0SDoE5"
      },
      "outputs": [
        {
          "data": {
            "text/plain": [
              "np.float64(5.4885201694532055)"
            ]
          },
          "execution_count": 38,
          "metadata": {},
          "output_type": "execute_result"
        }
      ],
      "source": [
        "def sa_weighted_avg(data, weights, k, l, u, epsilon):\n",
        "    \"\"\"\n",
        "        Parameters:\n",
        "            data    (pd.Series): The data to average\n",
        "            weights (pd.Series): The weights to calculate the average\n",
        "            k (int): The number of chunks\n",
        "            l, u (int): The clipping parameters for dividing the partial averages\n",
        "            epsilon (float): The privacy budget\n",
        "        Returns:\n",
        "            The private weighted average using Sample & Aggregate\n",
        "    \"\"\"\n",
        "    data_chunks = np.array_split(data, k)\n",
        "    weights_chunks = np.array_split(weights, k)\n",
        "    answers = [weighted_avg(d, w) for d,w in zip(data_chunks, weights_chunks)]\n",
        "    clipped_answers = np.clip(answers, l, u)\n",
        "    noisy_avg = laplace_mech(np.mean(clipped_answers), (u - l) / k, epsilon)\n",
        "    return noisy_avg\n",
        "\n",
        "sa_weighted_avg(ratings, weights, 200, 2, 8, epsilon)"
      ]
    },
    {
      "cell_type": "markdown",
      "metadata": {
        "id": "FgCfyxqGS1f-"
      },
      "source": [
        "## Question 12 (4 points)\n",
        "\n",
        "The following code plots the relative errors (against the real answer) of global sensitivity and Smooth Sensitivity:"
      ]
    },
    {
      "cell_type": "code",
      "execution_count": 39,
      "metadata": {
        "id": "Iupzp8gYGKLa"
      },
      "outputs": [
        {
          "data": {
            "image/png": "[encoded data removed]",
            "text/plain": [
              "<Figure size 640x480 with 1 Axes>"
            ]
          },
          "metadata": {},
          "output_type": "display_data"
        }
      ],
      "source": [
        "gs_results  = [\n",
        "    pct_error(weighted_avg(ratings, weights),\n",
        "    gs_weighted_avg(ratings, weights, u, wu, epsilon)) for i in range(100)]\n",
        "ptr_results = [\n",
        "    pct_error(weighted_avg(ratings, weights),\n",
        "    sa_weighted_avg(ratings, weights, 200, 2, 8, epsilon)) for i in range(100)]\n",
        "\n",
        "_, bins, _ = plt.hist(gs_results, label='Global sensitivity');\n",
        "plt.hist(ptr_results, alpha=.7, label='Sam. & Agg.', bins=bins);\n",
        "plt.xlabel('Percent Error')\n",
        "plt.ylabel('Number of Trials')\n",
        "plt.legend();"
      ]
    },
    {
      "cell_type": "markdown",
      "metadata": {
        "id": "VcCCCoemTAuV"
      },
      "source": [
        "1. Compare the accuracies of both methods. Explain how the plot helps justifying your analysis.\n",
        "2. We used bounds of $(2,8)$ as clipping parameters for the intermediate averages. Do you think those are reasonable bounds? Why?"
      ]
    },
    {
      "cell_type": "markdown",
      "metadata": {
        "id": "ADVCfNJSTBfB"
      },
      "source": [
        "YOUR ANSWER\n",
        "1. Se observa que Sample and aggregate obtiene mayor precisión debido a que los errores porcentuales están más concentrados y cercanos a cero en cambio para Global sensitivity los errores están más dispersos.\n",
        "2. Recortar los bordes puede ayudar a ignorar valores que podrían resultar atípicos, pero esto puede reducir la precisión. Considerando esto último, estos límites parecen razonable porque no se reduce demasiado el intervalo de valores que se podría tomar."
      ]
    }
  ],
  "metadata": {
    "colab": {
      "provenance": []
    },
    "kernelspec": {
      "display_name": "cc5215",
      "language": "python",
      "name": "python3"
    },
    "language_info": {
      "codemirror_mode": {
        "name": "ipython",
        "version": 3
      },
      "file_extension": ".py",
      "mimetype": "text/x-python",
      "name": "python",
      "nbconvert_exporter": "python",
      "pygments_lexer": "ipython3",
      "version": "3.13.2"
    }
  },
  "nbformat": 4,
  "nbformat_minor": 0
}
