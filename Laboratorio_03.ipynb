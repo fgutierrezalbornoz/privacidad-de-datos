{
  "cells": [
    {
      "cell_type": "markdown",
      "metadata": {
        "id": "uxqwGXZJ0mv6"
      },
      "source": [
        "# CC5215: Privacidad de Datos\n",
        "## Laboratorio 3\n",
        "**Integrantes**\n",
        "\n",
        "- Francisco Gutiérrez Albornoz"
      ]
    },
    {
      "cell_type": "code",
      "execution_count": 1,
      "metadata": {
        "id": "Cju0ltHw0mv9"
      },
      "outputs": [],
      "source": [
        "# Load the data and libraries\n",
        "import pandas as pd\n",
        "import numpy as np\n",
        "from scipy import stats\n",
        "import matplotlib.pyplot as plt\n",
        "from unittest.mock import patch\n",
        "\n",
        "plt.style.use('seaborn-v0_8-whitegrid')\n",
        "\n",
        "def laplace_mech(v, sensitivity, epsilon):\n",
        "    return v + np.random.laplace(loc=0, scale=sensitivity / epsilon)\n",
        "\n",
        "adult = pd.read_csv('https://users.dcc.uchile.cl/~mtoro/cursos/cc5215/adult_with_pii.csv')\n",
        "adult = adult.dropna()"
      ]
    },
    {
      "cell_type": "code",
      "execution_count": 2,
      "metadata": {
        "id": "XQDiArx42Q4c"
      },
      "outputs": [
        {
          "data": {
            "text/html": [
              "<div>\n",
              "<style scoped>\n",
              "    .dataframe tbody tr th:only-of-type {\n",
              "        vertical-align: middle;\n",
              "    }\n",
              "\n",
              "    .dataframe tbody tr th {\n",
              "        vertical-align: top;\n",
              "    }\n",
              "\n",
              "    .dataframe thead th {\n",
              "        text-align: right;\n",
              "    }\n",
              "</style>\n",
              "<table border=\"1\" class=\"dataframe\">\n",
              "  <thead>\n",
              "    <tr style=\"text-align: right;\">\n",
              "      <th></th>\n",
              "      <th>Name</th>\n",
              "      <th>DOB</th>\n",
              "      <th>SSN</th>\n",
              "      <th>Zip</th>\n",
              "      <th>Age</th>\n",
              "      <th>Workclass</th>\n",
              "      <th>fnlwgt</th>\n",
              "      <th>Education</th>\n",
              "      <th>Education-Num</th>\n",
              "      <th>Marital Status</th>\n",
              "      <th>Occupation</th>\n",
              "      <th>Relationship</th>\n",
              "      <th>Race</th>\n",
              "      <th>Sex</th>\n",
              "      <th>Capital Gain</th>\n",
              "      <th>Capital Loss</th>\n",
              "      <th>Hours per week</th>\n",
              "      <th>Country</th>\n",
              "      <th>Target</th>\n",
              "    </tr>\n",
              "  </thead>\n",
              "  <tbody>\n",
              "    <tr>\n",
              "      <th>0</th>\n",
              "      <td>Karrie Trusslove</td>\n",
              "      <td>9/7/1967</td>\n",
              "      <td>732-14-6110</td>\n",
              "      <td>64152</td>\n",
              "      <td>39</td>\n",
              "      <td>State-gov</td>\n",
              "      <td>77516</td>\n",
              "      <td>Bachelors</td>\n",
              "      <td>13</td>\n",
              "      <td>Never-married</td>\n",
              "      <td>Adm-clerical</td>\n",
              "      <td>Not-in-family</td>\n",
              "      <td>White</td>\n",
              "      <td>Male</td>\n",
              "      <td>2174</td>\n",
              "      <td>0</td>\n",
              "      <td>40</td>\n",
              "      <td>United-States</td>\n",
              "      <td>&lt;=50K</td>\n",
              "    </tr>\n",
              "    <tr>\n",
              "      <th>1</th>\n",
              "      <td>Brandise Tripony</td>\n",
              "      <td>6/7/1988</td>\n",
              "      <td>150-19-2766</td>\n",
              "      <td>61523</td>\n",
              "      <td>50</td>\n",
              "      <td>Self-emp-not-inc</td>\n",
              "      <td>83311</td>\n",
              "      <td>Bachelors</td>\n",
              "      <td>13</td>\n",
              "      <td>Married-civ-spouse</td>\n",
              "      <td>Exec-managerial</td>\n",
              "      <td>Husband</td>\n",
              "      <td>White</td>\n",
              "      <td>Male</td>\n",
              "      <td>0</td>\n",
              "      <td>0</td>\n",
              "      <td>13</td>\n",
              "      <td>United-States</td>\n",
              "      <td>&lt;=50K</td>\n",
              "    </tr>\n",
              "    <tr>\n",
              "      <th>2</th>\n",
              "      <td>Brenn McNeely</td>\n",
              "      <td>8/6/1991</td>\n",
              "      <td>725-59-9860</td>\n",
              "      <td>95668</td>\n",
              "      <td>38</td>\n",
              "      <td>Private</td>\n",
              "      <td>215646</td>\n",
              "      <td>HS-grad</td>\n",
              "      <td>9</td>\n",
              "      <td>Divorced</td>\n",
              "      <td>Handlers-cleaners</td>\n",
              "      <td>Not-in-family</td>\n",
              "      <td>White</td>\n",
              "      <td>Male</td>\n",
              "      <td>0</td>\n",
              "      <td>0</td>\n",
              "      <td>40</td>\n",
              "      <td>United-States</td>\n",
              "      <td>&lt;=50K</td>\n",
              "    </tr>\n",
              "    <tr>\n",
              "      <th>3</th>\n",
              "      <td>Dorry Poter</td>\n",
              "      <td>4/6/2009</td>\n",
              "      <td>659-57-4974</td>\n",
              "      <td>25503</td>\n",
              "      <td>53</td>\n",
              "      <td>Private</td>\n",
              "      <td>234721</td>\n",
              "      <td>11th</td>\n",
              "      <td>7</td>\n",
              "      <td>Married-civ-spouse</td>\n",
              "      <td>Handlers-cleaners</td>\n",
              "      <td>Husband</td>\n",
              "      <td>Black</td>\n",
              "      <td>Male</td>\n",
              "      <td>0</td>\n",
              "      <td>0</td>\n",
              "      <td>40</td>\n",
              "      <td>United-States</td>\n",
              "      <td>&lt;=50K</td>\n",
              "    </tr>\n",
              "    <tr>\n",
              "      <th>4</th>\n",
              "      <td>Dick Honnan</td>\n",
              "      <td>9/16/1951</td>\n",
              "      <td>220-93-3811</td>\n",
              "      <td>75387</td>\n",
              "      <td>28</td>\n",
              "      <td>Private</td>\n",
              "      <td>338409</td>\n",
              "      <td>Bachelors</td>\n",
              "      <td>13</td>\n",
              "      <td>Married-civ-spouse</td>\n",
              "      <td>Prof-specialty</td>\n",
              "      <td>Wife</td>\n",
              "      <td>Black</td>\n",
              "      <td>Female</td>\n",
              "      <td>0</td>\n",
              "      <td>0</td>\n",
              "      <td>40</td>\n",
              "      <td>Cuba</td>\n",
              "      <td>&lt;=50K</td>\n",
              "    </tr>\n",
              "  </tbody>\n",
              "</table>\n",
              "</div>"
            ],
            "text/plain": [
              "               Name        DOB          SSN    Zip  Age         Workclass  \\\n",
              "0  Karrie Trusslove   9/7/1967  732-14-6110  64152   39         State-gov   \n",
              "1  Brandise Tripony   6/7/1988  150-19-2766  61523   50  Self-emp-not-inc   \n",
              "2     Brenn McNeely   8/6/1991  725-59-9860  95668   38           Private   \n",
              "3       Dorry Poter   4/6/2009  659-57-4974  25503   53           Private   \n",
              "4       Dick Honnan  9/16/1951  220-93-3811  75387   28           Private   \n",
              "\n",
              "   fnlwgt  Education  Education-Num      Marital Status         Occupation  \\\n",
              "0   77516  Bachelors             13       Never-married       Adm-clerical   \n",
              "1   83311  Bachelors             13  Married-civ-spouse    Exec-managerial   \n",
              "2  215646    HS-grad              9            Divorced  Handlers-cleaners   \n",
              "3  234721       11th              7  Married-civ-spouse  Handlers-cleaners   \n",
              "4  338409  Bachelors             13  Married-civ-spouse     Prof-specialty   \n",
              "\n",
              "    Relationship   Race     Sex  Capital Gain  Capital Loss  Hours per week  \\\n",
              "0  Not-in-family  White    Male          2174             0              40   \n",
              "1        Husband  White    Male             0             0              13   \n",
              "2  Not-in-family  White    Male             0             0              40   \n",
              "3        Husband  Black    Male             0             0              40   \n",
              "4           Wife  Black  Female             0             0              40   \n",
              "\n",
              "         Country Target  \n",
              "0  United-States  <=50K  \n",
              "1  United-States  <=50K  \n",
              "2  United-States  <=50K  \n",
              "3  United-States  <=50K  \n",
              "4           Cuba  <=50K  "
            ]
          },
          "execution_count": 2,
          "metadata": {},
          "output_type": "execute_result"
        }
      ],
      "source": [
        "adult.head()"
      ]
    },
    {
      "cell_type": "markdown",
      "metadata": {
        "id": "wO4vdsOM0mv-"
      },
      "source": [
        "## Question 1 (5 points)\n",
        "\n",
        "Write code to answer the query: \"how many participants have never been married?\"\n",
        "\n",
        "*Hint*: filter the `adult` dataframe to contain only participants who were never married, then return the  `len` of the filtered dataframe."
      ]
    },
    {
      "cell_type": "code",
      "execution_count": 3,
      "metadata": {
        "deletable": false,
        "id": "AxQkiREh0mv-",
        "nbgrader": {
          "cell_type": "code",
          "checksum": "8f1f7e0158a3e66d86f5d3d51a7ed30f",
          "grade": false,
          "grade_id": "cell-975eb03979d78eaf",
          "locked": false,
          "schema_version": 3,
          "solution": true,
          "task": false
        }
      },
      "outputs": [
        {
          "data": {
            "text/plain": [
              "9726"
            ]
          },
          "execution_count": 3,
          "metadata": {},
          "output_type": "execute_result"
        }
      ],
      "source": [
        "def never_married_count_query():\n",
        "    return len(adult[adult['Marital Status']=='Never-married'])\n",
        "\n",
        "never_married_count_query()"
      ]
    },
    {
      "cell_type": "code",
      "execution_count": 4,
      "metadata": {
        "deletable": false,
        "editable": false,
        "id": "EOxZcw2p0mv-",
        "nbgrader": {
          "cell_type": "code",
          "checksum": "674e4c2da585cbb9e92ee8a546628647",
          "grade": true,
          "grade_id": "cell-c5ba2c93a46e8c5e",
          "locked": true,
          "points": 10,
          "schema_version": 3,
          "solution": false,
          "task": false
        }
      },
      "outputs": [],
      "source": [
        "# TEST CASE for question 1\n",
        "assert never_married_count_query() == 9726"
      ]
    },
    {
      "cell_type": "markdown",
      "metadata": {
        "id": "4ZZQuVNJ0mv_"
      },
      "source": [
        "## Question 2 (5 points)\n",
        "\n",
        "In 2-5 sentences, answer the following:\n",
        "- What is the sensitivity of `never_married_count_query`, and why?"
      ]
    },
    {
      "cell_type": "markdown",
      "metadata": {
        "deletable": false,
        "id": "5FODwxJw0mv_",
        "nbgrader": {
          "cell_type": "markdown",
          "checksum": "a49f719e7bbff7b4331d41682658d904",
          "grade": true,
          "grade_id": "cell-fb1c7b0533f933f7",
          "locked": false,
          "points": 5,
          "schema_version": 3,
          "solution": true,
          "task": false
        }
      },
      "source": [
        "\n",
        "ANSWER: la sensibilidad sería 1 ya que al agregar una persona al dataset podría haberse casado o nunca haberlo hecho entonces el count query aumentaría a lo más en 1."
      ]
    },
    {
      "cell_type": "markdown",
      "metadata": {
        "id": "mZgI1KG40mv_"
      },
      "source": [
        "## Question 3 (5 points)\n",
        "\n",
        "Use the implementation of `laplace_mech` to produce a differentially private answer to `never_married_count_query`, with `epsilon = 0.1`."
      ]
    },
    {
      "cell_type": "code",
      "execution_count": 5,
      "metadata": {
        "deletable": false,
        "id": "WYpCdTl00mv_",
        "nbgrader": {
          "cell_type": "code",
          "checksum": "0e27ddd40ababa8eee863cbbeb1961b2",
          "grade": false,
          "grade_id": "cell-80d3c108ba0f75d5",
          "locked": false,
          "schema_version": 3,
          "solution": true,
          "task": false
        }
      },
      "outputs": [
        {
          "data": {
            "text/plain": [
              "9699.78488795031"
            ]
          },
          "execution_count": 5,
          "metadata": {},
          "output_type": "execute_result"
        }
      ],
      "source": [
        "def dp_never_married_count_query(epsilon):\n",
        "    df = 1\n",
        "    return never_married_count_query() + np.random.laplace(loc=0, scale = df/epsilon)\n",
        "\n",
        "dp_never_married_count_query(0.1)"
      ]
    },
    {
      "cell_type": "code",
      "execution_count": 6,
      "metadata": {
        "deletable": false,
        "editable": false,
        "id": "yXMT1Kdd0mv_",
        "nbgrader": {
          "cell_type": "code",
          "checksum": "4f93d4f28b6a3727ed76df8885baeb8a",
          "grade": true,
          "grade_id": "cell-93eab43d27806309",
          "locked": true,
          "points": 10,
          "schema_version": 3,
          "solution": false,
          "task": false
        }
      },
      "outputs": [],
      "source": [
        "# TEST CASE for question 3\n",
        "dp_results = [dp_never_married_count_query(0.1) for _ in range(100)]\n",
        "spec = [np.random.laplace(loc=9726, scale=1/0.1) for _ in range(100)]\n",
        "assert stats.wasserstein_distance(dp_results, spec) < 10"
      ]
    },
    {
      "cell_type": "markdown",
      "metadata": {
        "id": "6MAF-EfSTjHa"
      },
      "source": [
        "# Question 4 (10 points)\n",
        "\n",
        "Write the implementation of a class `DPPrinter` that collects the results of differentially private computations along with the used epsilon. Also, implement the method `print` that prints the results collected along with the total epsilon."
      ]
    },
    {
      "cell_type": "code",
      "execution_count": 7,
      "metadata": {
        "id": "02E6Prt-RGP6"
      },
      "outputs": [
        {
          "name": "stdout",
          "output_type": "stream",
          "text": [
            "los resultados recolectados:  [9716.58697421154, 9725.510053793487, 9750.142494484615]\n",
            "epsilon total :  1.2000000000000002\n"
          ]
        }
      ],
      "source": [
        "class DPPrinter():\n",
        "    results = []\n",
        "    epsilon = 0\n",
        "\n",
        "    def push(self, result, eps):\n",
        "        \"\"\"\n",
        "        Receives a differentially private result and the epsilon used to\n",
        "        privatize the original result, and it stores them in the class\n",
        "        \"\"\"\n",
        "        self.results.append(result)\n",
        "        self.epsilon += eps\n",
        "\n",
        "    def print(self):\n",
        "        \"\"\"\n",
        "        Prints the results collected so far and the total epsilon\n",
        "        \"\"\"\n",
        "        print('los resultados recolectados: ', self.results)\n",
        "        print('epsilon total : ', self.epsilon)\n",
        "printer = DPPrinter()\n",
        "\n",
        "printer.push(dp_never_married_count_query(0.1), 0.1)\n",
        "printer.push(dp_never_married_count_query(1.0), 1.0)\n",
        "printer.push(dp_never_married_count_query(0.1), 0.1)\n",
        "\n",
        "printer.print()"
      ]
    },
    {
      "cell_type": "code",
      "execution_count": 8,
      "metadata": {
        "id": "DMXoX9TrUDqk"
      },
      "outputs": [],
      "source": [
        "assert len(printer.results) == 3\n",
        "assert np.isclose(printer.epsilon, 1.2)"
      ]
    },
    {
      "cell_type": "markdown",
      "metadata": {
        "id": "g8qA1Z2B0mv_"
      },
      "source": [
        "## Question 5 (10 points)\n",
        "\n",
        "The `pct_error` function, defined below, returns the percent relative error between an original query result and a differentially private result for the same query.\n",
        "\n",
        "Implement a function `graph_error_never_married` that:\n",
        "\n",
        "- Calculates 1000 differentially private answers to `dp_never_married_count_query`\n",
        "- Calculates the percent error for each one of these answers against the original (non-private) answer\n",
        "- Graphs the distribution of errors using a histogram\n",
        "\n",
        "*Hint*: use `plt.hist(..., bins=20)`.\n",
        "\n",
        "The given code will use your function to plot errors for `epsilon=0.1` and `epsilon=1.0`."
      ]
    },
    {
      "cell_type": "code",
      "execution_count": 9,
      "metadata": {
        "id": "Vb9Lvp530mwA"
      },
      "outputs": [],
      "source": [
        "def pct_error(orig, priv):\n",
        "    return np.abs(orig - priv)/orig * 100.0"
      ]
    },
    {
      "cell_type": "code",
      "execution_count": 29,
      "metadata": {
        "deletable": false,
        "id": "V4F1l8CT0mwA",
        "nbgrader": {
          "cell_type": "code",
          "checksum": "e0629316da63126e9cb985ce2dd54c40",
          "grade": false,
          "grade_id": "cell-da0c198a1cf9a866",
          "locked": false,
          "schema_version": 3,
          "solution": true,
          "task": false
        }
      },
      "outputs": [
        {
          "data": {
            "image/png": "[encoded data removed]",
            "text/plain": [
              "<Figure size 640x480 with 1 Axes>"
            ]
          },
          "metadata": {},
          "output_type": "display_data"
        }
      ],
      "source": [
        "def graph_error_never_married(epsilon, alpha=1):\n",
        "    p = DPPrinter()\n",
        "    p.results = []\n",
        "    p.epsilon = 0\n",
        "    orig = never_married_count_query()\n",
        "    for i in range(1000):\n",
        "        p.push(pct_error(orig, dp_never_married_count_query(epsilon)), epsilon)\n",
        "    # plt.figure()\n",
        "    plt.hist(p.results, bins=20, alpha=alpha, label=f'never-married epsilon: {epsilon}')\n",
        "    # plt.title(f'never married error, epsilon = {epsilon}')\n",
        "    plt.legend()\n",
        "    \n",
        "plt.show()\n",
        "\n",
        "\n",
        "graph_error_never_married(0.1)\n",
        "graph_error_never_married(1.0, 0.7)"
      ]
    },
    {
      "cell_type": "code",
      "execution_count": 30,
      "metadata": {
        "deletable": false,
        "editable": false,
        "id": "ZmSxrxZv0mwA",
        "nbgrader": {
          "cell_type": "code",
          "checksum": "3361b8760594145c039d41479c981de4",
          "grade": true,
          "grade_id": "cell-eda6bc27840a9067",
          "locked": true,
          "points": 10,
          "schema_version": 3,
          "solution": false,
          "task": false
        }
      },
      "outputs": [
        {
          "name": "stderr",
          "output_type": "stream",
          "text": [
            "C:\\Users\\franc\\AppData\\Local\\Temp\\ipykernel_2096\\1775630409.py:11: UserWarning: No artists with labels found to put in legend.  Note that artists whose label start with an underscore are ignored when legend() is called with no argument.\n",
            "  plt.legend()\n"
          ]
        },
        {
          "data": {
            "image/png": "[encoded data removed]",
            "text/plain": [
              "<Figure size 640x480 with 1 Axes>"
            ]
          },
          "metadata": {},
          "output_type": "display_data"
        }
      ],
      "source": [
        "error_spec = 100.0 * np.abs(np.random.laplace(loc=0, scale=1, size=1000)) / never_married_count_query()\n",
        "\n",
        "with patch('matplotlib.pyplot.hist') as mock_hist:\n",
        "    graph_error_never_married(1.0)\n",
        "\n",
        "args, kwargs = mock_hist.call_args\n",
        "assert stats.wasserstein_distance(error_spec, args[0]) < 0.001"
      ]
    },
    {
      "cell_type": "markdown",
      "metadata": {
        "id": "IOIW7sB10mwA"
      },
      "source": [
        "## Question 6 (10 points)\n",
        "\n",
        "In 2-5 sentences, answer the following:\n",
        "\n",
        "1. How does the histogram of relative errors for $\\epsilon = 0.1$ differ from the one for $\\epsilon = 1.0$?\n",
        "2. What do the two histograms tell you about the effect of $\\epsilon$ on relative error?\n",
        "\n",
        "**HINT**: Pay close attention to which color represents which value of $\\epsilon$!"
      ]
    },
    {
      "cell_type": "markdown",
      "metadata": {
        "deletable": false,
        "id": "FsfS-Al50mwA",
        "nbgrader": {
          "cell_type": "markdown",
          "checksum": "ce2bae13a992d9010fab785450105fd6",
          "grade": true,
          "grade_id": "cell-075013c43cc4cc1d",
          "locked": false,
          "points": 10,
          "schema_version": 3,
          "solution": true,
          "task": false
        }
      },
      "source": [
        "ANSWER 1: en el histograma con epsilon = 1.0 se tienen valores más cercano a cero, esto es debido a que con este valor de epsilon se tiene una menor privacidad entonces se esperaría que los valores perturbados sean más parecidos a los originales. Lo contrario explicaría para epsilon=0.1, los valores no deberían parecerse tanto a los originales por tanto debería tener más error.\n",
        "\n",
        "ANSWER 2: El tamaño de las barras, si imaginamos una envolvente para valores de epsilon cercanos a 1, la envolvente tiene una mayor pendiente (en valor absoluto), en cambio para valores de epsilon cercanos a cero la envolvente debería ser \"más suave\" (los errores están \"más distribuidos\" o \"dispersos\")."
      ]
    },
    {
      "cell_type": "markdown",
      "metadata": {
        "id": "r1__03OQ0mwB"
      },
      "source": [
        "## Question 7 (5 points)\n",
        "\n",
        "Consider `over_60_count_query`, which asks how many people in the dataset are over the age of 60."
      ]
    },
    {
      "cell_type": "code",
      "execution_count": 12,
      "metadata": {
        "id": "GzNKFR9u0mwB"
      },
      "outputs": [],
      "source": [
        "def over_60_count_query():\n",
        "    return len(adult[adult['Age'] > 60])"
      ]
    },
    {
      "cell_type": "markdown",
      "metadata": {
        "id": "68QjJB8b0mwB"
      },
      "source": [
        "Implement `dp_over_60_count_query`, a differentially private version of `over_60_count_query` (as in question 3), and `graph_error_over_60`, which graphs relative error for `dp_over_60_count_query` (as in question 5)."
      ]
    },
    {
      "cell_type": "code",
      "execution_count": 31,
      "metadata": {
        "deletable": false,
        "id": "iiynjnjR0mwB",
        "nbgrader": {
          "cell_type": "code",
          "checksum": "aa2b1a0e097669458441b4208bdb099e",
          "grade": false,
          "grade_id": "cell-1c15ba7324d807a4",
          "locked": false,
          "schema_version": 3,
          "solution": true,
          "task": false
        }
      },
      "outputs": [
        {
          "data": {
            "image/png": "[encoded data removed]",
            "text/plain": [
              "<Figure size 640x480 with 1 Axes>"
            ]
          },
          "metadata": {},
          "output_type": "display_data"
        }
      ],
      "source": [
        "def dp_over_60_count_query(epsilon):\n",
        "    df = 1\n",
        "    return over_60_count_query() + np.random.laplace(loc=0, scale = df/epsilon)\n",
        "\n",
        "def graph_error_over_60(epsilon, alpha=1):\n",
        "    p = DPPrinter()\n",
        "    p.results = []\n",
        "    p.epsilon = 0\n",
        "    orig = over_60_count_query()\n",
        "    for i in range(1000):\n",
        "        p.push(pct_error(orig, dp_over_60_count_query(epsilon)), epsilon)\n",
        "    # plt.figure()\n",
        "    plt.hist(p.results, bins=20, alpha=alpha, label=f'over-60 epsilon: {epsilon}')\n",
        "    # plt.title(f'over 60 error, epsilon = {epsilon}')\n",
        "    plt.legend()\n",
        "    \n",
        "plt.show()\n",
        "# we plot both errors for never_married_count_query and over_60_count_query\n",
        "# at the same epsilon, to compare\n",
        "graph_error_over_60(1.0)\n",
        "graph_error_never_married(1.0, 0.7)"
      ]
    },
    {
      "cell_type": "code",
      "execution_count": 20,
      "metadata": {
        "deletable": false,
        "editable": false,
        "id": "tqmvhS4K0mwB",
        "nbgrader": {
          "cell_type": "code",
          "checksum": "015fdbec71d505db6698ac9ebb460e18",
          "grade": true,
          "grade_id": "cell-239ae948aa08f924",
          "locked": true,
          "points": 10,
          "schema_version": 3,
          "solution": false,
          "task": false
        }
      },
      "outputs": [
        {
          "data": {
            "image/png": "[encoded data removed]",
            "text/plain": [
              "<Figure size 640x480 with 1 Axes>"
            ]
          },
          "metadata": {},
          "output_type": "display_data"
        }
      ],
      "source": [
        "error_spec = 100.0 * np.abs(np.random.laplace(loc=0, scale=1, size=1000)) / over_60_count_query()\n",
        "\n",
        "with patch('matplotlib.pyplot.hist') as mock_hist:\n",
        "    graph_error_over_60(1.0)\n",
        "\n",
        "args, kwargs = mock_hist.call_args\n",
        "assert stats.wasserstein_distance(error_spec, args[0]) < 0.01"
      ]
    },
    {
      "cell_type": "markdown",
      "metadata": {
        "id": "12fnhWNM0mwB"
      },
      "source": [
        "## Question 8 (10 points)\n",
        "\n",
        "In 2-5 sentences, answer the following:\n",
        "\n",
        "1. Given the graph from question 5, how does relative error differ between `dp_never_married_count_query` and `dp_over_60_count_query` for the same value of $\\epsilon$?\n",
        "2. What property of the query causes the difference in relative errors between `dp_never_married_count_query` and `dp_over_60_count_query`?"
      ]
    },
    {
      "cell_type": "markdown",
      "metadata": {
        "deletable": false,
        "id": "aZb6_A3u0mwB",
        "nbgrader": {
          "cell_type": "markdown",
          "checksum": "36649d5ca3c4a6845f7caa5d7952d216",
          "grade": true,
          "grade_id": "cell-be5745d92a22154c",
          "locked": false,
          "points": 10,
          "schema_version": 3,
          "solution": true,
          "task": false
        }
      },
      "source": [
        "ANSWER 1: Los errores para `dp_never_married_count_query` están más concentrados que para `dp_over_60_count_query` lo que se traduce en menores errores relativos.\n",
        "\n",
        "ANSWER 2: Puede deberse a la cantidad de valores que son entregados por la query, para `never_married_count_query()` se tienen 9726 datos, mientras que para `over_60_count_query()` 1806. Luego, para tener mayor privacidad se necesita perturbar poco los datos de la primera consulta (ya que son más) esto genera errores relativos más pequeños, lo contrario pasa para la otra query."
      ]
    }
  ],
  "metadata": {
    "colab": {
      "provenance": []
    },
    "kernelspec": {
      "display_name": "cc5215",
      "language": "python",
      "name": "python3"
    },
    "language_info": {
      "codemirror_mode": {
        "name": "ipython",
        "version": 3
      },
      "file_extension": ".py",
      "mimetype": "text/x-python",
      "name": "python",
      "nbconvert_exporter": "python",
      "pygments_lexer": "ipython3",
      "version": "3.13.2"
    }
  },
  "nbformat": 4,
  "nbformat_minor": 0
}
