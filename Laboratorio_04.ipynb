{
  "cells": [
    {
      "cell_type": "markdown",
      "metadata": {
        "id": "UxJqW41eNfM6"
      },
      "source": [
        "# CC5215: Privacidad de Datos\n",
        "## Laboratorio 4\n",
        "\n",
        "Integrantes:\n",
        "\n",
        "- Nombre: Francisco Gutiérrez Albornoz"
      ]
    },
    {
      "cell_type": "code",
      "execution_count": 2,
      "metadata": {
        "id": "kiGC_6YYNfM7"
      },
      "outputs": [],
      "source": [
        "# Load the data and libraries\n",
        "import pandas as pd\n",
        "import numpy as np\n",
        "from scipy import stats\n",
        "import matplotlib.pyplot as plt\n",
        "plt.style.use('seaborn-v0_8-whitegrid')\n",
        "\n",
        "def laplace_mech(v, sensitivity, epsilon):\n",
        "    return v + np.random.laplace(loc=0, scale=sensitivity / epsilon)\n",
        "\n",
        "def pct_error(orig, priv):\n",
        "    return np.abs(orig - priv)/orig * 100.0\n",
        "\n",
        "adult = pd.read_csv('https://users.dcc.uchile.cl/~mtoro/cursos/cc5215/adult_with_pii.csv')\n",
        "adult = adult.dropna()"
      ]
    },
    {
      "cell_type": "code",
      "execution_count": 2,
      "metadata": {
        "id": "tKDb9lQdNfM8"
      },
      "outputs": [
        {
          "data": {
            "text/html": [
              "<div>\n",
              "<style scoped>\n",
              "    .dataframe tbody tr th:only-of-type {\n",
              "        vertical-align: middle;\n",
              "    }\n",
              "\n",
              "    .dataframe tbody tr th {\n",
              "        vertical-align: top;\n",
              "    }\n",
              "\n",
              "    .dataframe thead th {\n",
              "        text-align: right;\n",
              "    }\n",
              "</style>\n",
              "<table border=\"1\" class=\"dataframe\">\n",
              "  <thead>\n",
              "    <tr style=\"text-align: right;\">\n",
              "      <th></th>\n",
              "      <th>Name</th>\n",
              "      <th>DOB</th>\n",
              "      <th>SSN</th>\n",
              "      <th>Zip</th>\n",
              "      <th>Age</th>\n",
              "      <th>Workclass</th>\n",
              "      <th>fnlwgt</th>\n",
              "      <th>Education</th>\n",
              "      <th>Education-Num</th>\n",
              "      <th>Marital Status</th>\n",
              "      <th>Occupation</th>\n",
              "      <th>Relationship</th>\n",
              "      <th>Race</th>\n",
              "      <th>Sex</th>\n",
              "      <th>Capital Gain</th>\n",
              "      <th>Capital Loss</th>\n",
              "      <th>Hours per week</th>\n",
              "      <th>Country</th>\n",
              "      <th>Target</th>\n",
              "    </tr>\n",
              "  </thead>\n",
              "  <tbody>\n",
              "    <tr>\n",
              "      <th>0</th>\n",
              "      <td>Karrie Trusslove</td>\n",
              "      <td>9/7/1967</td>\n",
              "      <td>732-14-6110</td>\n",
              "      <td>64152</td>\n",
              "      <td>39</td>\n",
              "      <td>State-gov</td>\n",
              "      <td>77516</td>\n",
              "      <td>Bachelors</td>\n",
              "      <td>13</td>\n",
              "      <td>Never-married</td>\n",
              "      <td>Adm-clerical</td>\n",
              "      <td>Not-in-family</td>\n",
              "      <td>White</td>\n",
              "      <td>Male</td>\n",
              "      <td>2174</td>\n",
              "      <td>0</td>\n",
              "      <td>40</td>\n",
              "      <td>United-States</td>\n",
              "      <td>&lt;=50K</td>\n",
              "    </tr>\n",
              "    <tr>\n",
              "      <th>1</th>\n",
              "      <td>Brandise Tripony</td>\n",
              "      <td>6/7/1988</td>\n",
              "      <td>150-19-2766</td>\n",
              "      <td>61523</td>\n",
              "      <td>50</td>\n",
              "      <td>Self-emp-not-inc</td>\n",
              "      <td>83311</td>\n",
              "      <td>Bachelors</td>\n",
              "      <td>13</td>\n",
              "      <td>Married-civ-spouse</td>\n",
              "      <td>Exec-managerial</td>\n",
              "      <td>Husband</td>\n",
              "      <td>White</td>\n",
              "      <td>Male</td>\n",
              "      <td>0</td>\n",
              "      <td>0</td>\n",
              "      <td>13</td>\n",
              "      <td>United-States</td>\n",
              "      <td>&lt;=50K</td>\n",
              "    </tr>\n",
              "    <tr>\n",
              "      <th>2</th>\n",
              "      <td>Brenn McNeely</td>\n",
              "      <td>8/6/1991</td>\n",
              "      <td>725-59-9860</td>\n",
              "      <td>95668</td>\n",
              "      <td>38</td>\n",
              "      <td>Private</td>\n",
              "      <td>215646</td>\n",
              "      <td>HS-grad</td>\n",
              "      <td>9</td>\n",
              "      <td>Divorced</td>\n",
              "      <td>Handlers-cleaners</td>\n",
              "      <td>Not-in-family</td>\n",
              "      <td>White</td>\n",
              "      <td>Male</td>\n",
              "      <td>0</td>\n",
              "      <td>0</td>\n",
              "      <td>40</td>\n",
              "      <td>United-States</td>\n",
              "      <td>&lt;=50K</td>\n",
              "    </tr>\n",
              "    <tr>\n",
              "      <th>3</th>\n",
              "      <td>Dorry Poter</td>\n",
              "      <td>4/6/2009</td>\n",
              "      <td>659-57-4974</td>\n",
              "      <td>25503</td>\n",
              "      <td>53</td>\n",
              "      <td>Private</td>\n",
              "      <td>234721</td>\n",
              "      <td>11th</td>\n",
              "      <td>7</td>\n",
              "      <td>Married-civ-spouse</td>\n",
              "      <td>Handlers-cleaners</td>\n",
              "      <td>Husband</td>\n",
              "      <td>Black</td>\n",
              "      <td>Male</td>\n",
              "      <td>0</td>\n",
              "      <td>0</td>\n",
              "      <td>40</td>\n",
              "      <td>United-States</td>\n",
              "      <td>&lt;=50K</td>\n",
              "    </tr>\n",
              "    <tr>\n",
              "      <th>4</th>\n",
              "      <td>Dick Honnan</td>\n",
              "      <td>9/16/1951</td>\n",
              "      <td>220-93-3811</td>\n",
              "      <td>75387</td>\n",
              "      <td>28</td>\n",
              "      <td>Private</td>\n",
              "      <td>338409</td>\n",
              "      <td>Bachelors</td>\n",
              "      <td>13</td>\n",
              "      <td>Married-civ-spouse</td>\n",
              "      <td>Prof-specialty</td>\n",
              "      <td>Wife</td>\n",
              "      <td>Black</td>\n",
              "      <td>Female</td>\n",
              "      <td>0</td>\n",
              "      <td>0</td>\n",
              "      <td>40</td>\n",
              "      <td>Cuba</td>\n",
              "      <td>&lt;=50K</td>\n",
              "    </tr>\n",
              "  </tbody>\n",
              "</table>\n",
              "</div>"
            ],
            "text/plain": [
              "               Name        DOB          SSN    Zip  Age         Workclass  \\\n",
              "0  Karrie Trusslove   9/7/1967  732-14-6110  64152   39         State-gov   \n",
              "1  Brandise Tripony   6/7/1988  150-19-2766  61523   50  Self-emp-not-inc   \n",
              "2     Brenn McNeely   8/6/1991  725-59-9860  95668   38           Private   \n",
              "3       Dorry Poter   4/6/2009  659-57-4974  25503   53           Private   \n",
              "4       Dick Honnan  9/16/1951  220-93-3811  75387   28           Private   \n",
              "\n",
              "   fnlwgt  Education  Education-Num      Marital Status         Occupation  \\\n",
              "0   77516  Bachelors             13       Never-married       Adm-clerical   \n",
              "1   83311  Bachelors             13  Married-civ-spouse    Exec-managerial   \n",
              "2  215646    HS-grad              9            Divorced  Handlers-cleaners   \n",
              "3  234721       11th              7  Married-civ-spouse  Handlers-cleaners   \n",
              "4  338409  Bachelors             13  Married-civ-spouse     Prof-specialty   \n",
              "\n",
              "    Relationship   Race     Sex  Capital Gain  Capital Loss  Hours per week  \\\n",
              "0  Not-in-family  White    Male          2174             0              40   \n",
              "1        Husband  White    Male             0             0              13   \n",
              "2  Not-in-family  White    Male             0             0              40   \n",
              "3        Husband  Black    Male             0             0              40   \n",
              "4           Wife  Black  Female             0             0              40   \n",
              "\n",
              "         Country Target  \n",
              "0  United-States  <=50K  \n",
              "1  United-States  <=50K  \n",
              "2  United-States  <=50K  \n",
              "3  United-States  <=50K  \n",
              "4           Cuba  <=50K  "
            ]
          },
          "execution_count": 2,
          "metadata": {},
          "output_type": "execute_result"
        }
      ],
      "source": [
        "adult.head()"
      ]
    },
    {
      "cell_type": "markdown",
      "metadata": {
        "id": "MteU4VP8WicM"
      },
      "source": [
        "### Question 1 (10 points)\n",
        "\n",
        "As you can imagine, the column Capital Gain does not have an obvious upper bound. Therefore, in order to compute a differentially private sum of that column, we need to clip the column.\n",
        "\n",
        "Complete the function `find_sensitivity_clipping_cgain` that plots the sum of 'Capital Gain' for different clipping parameters. Your function should not use more of a privacy budget than `epsilon`.\n",
        "\n",
        "_Hint_: Explore different cliping parameters using a step of `10000` and a reasonable number of iterations."
      ]
    },
    {
      "cell_type": "code",
      "execution_count": 6,
      "metadata": {
        "id": "dfV0q2Z1QjTK"
      },
      "outputs": [
        {
          "data": {
            "image/png": "[encoded data removed]",
            "text/plain": [
              "<Figure size 640x480 with 1 Axes>"
            ]
          },
          "metadata": {},
          "output_type": "display_data"
        }
      ],
      "source": [
        "def find_sensitivity_clipping_cgain(epsilon):\n",
        "    n=20#35\n",
        "    step = 10000\n",
        "    range_CG = range(0, step * n, step)\n",
        "    result_list = [laplace_mech(adult['Capital Gain'].clip(lower=0, upper=i).sum(), i, epsilon/n) for i in range_CG]\n",
        "    plt.plot(range_CG, result_list)\n",
        "    plt.xlabel('Clipping Bound for Capital Gain')\n",
        "    plt.ylabel('Total Sum')\n",
        "\n",
        "# You will propably want to use this latter 👀\n",
        "CLIPPING_EPSILON = 1.0\n",
        "\n",
        "find_sensitivity_clipping_cgain(CLIPPING_EPSILON)"
      ]
    },
    {
      "cell_type": "code",
      "execution_count": 3,
      "metadata": {
        "id": "PnXYmHUbAq-h"
      },
      "outputs": [],
      "source": [
        "# Define this variable for the next question\n",
        "\n",
        "CAPGAIN_UPPER_BOUND = 110000"
      ]
    },
    {
      "cell_type": "markdown",
      "metadata": {
        "id": "a7YQNwaVuQF8"
      },
      "source": [
        "### Question 2 (10 points)\n",
        "\n",
        "- What is a reasonable clipping parameter? and why?\n",
        "- What was the privacy budget (`epsilon`) for each iteration?"
      ]
    },
    {
      "cell_type": "markdown",
      "metadata": {
        "id": "S2igTt6bu2nu"
      },
      "source": [
        "\n",
        "- ANSWER 1: Yo escogí 110000 como un parámetro razonable ya que en el gráfico se observa que un poco después de 100000 la curva tienden a 'oscilar' entre 3 y 4 (10^7). Al considerar un rango posterior de 175000 las oscilaciones eran más abruptas y no tenían un valor en torno al cual se mantuvieran. Esto lo podríamos corroborar generando un fiteo de la curva para tener un comportamiento un poco más suave.\n",
        "- ANSWER 2: En cada iteración se utilizó epsilon/n con n el número total de iteraciones. En este caso como eran 20 oscilaciones, se utilizó el 5% del epsilon en cada iteración.\n"
      ]
    },
    {
      "cell_type": "markdown",
      "metadata": {
        "id": "R-d8oxK4NfM8"
      },
      "source": [
        "### Question 3 (10 points)\n",
        "\n",
        "Complete the definition of `dp_sum_capgain` below, using the clipping parameter you previously found. Your definition should compute a differentially private sum of the \"Capital Gain\" column of the `adult` dataset, and have a total privacy cost of `epsilon`.\n",
        "\n",
        "_Hint_: Remember that you already used some of the privacy budget for finding the clipping parameter."
      ]
    },
    {
      "cell_type": "code",
      "execution_count": 9,
      "metadata": {
        "deletable": false,
        "id": "b_xzC82CNfM8",
        "nbgrader": {
          "cell_type": "code",
          "checksum": "6080971c67250edb52282f4b23cd5b88",
          "grade": false,
          "grade_id": "cell-6a369f61d8eef943",
          "locked": false,
          "schema_version": 3,
          "solution": true,
          "task": false
        }
      },
      "outputs": [
        {
          "data": {
            "text/plain": [
              "np.float64(32942004.236387853)"
            ]
          },
          "execution_count": 9,
          "metadata": {},
          "output_type": "execute_result"
        }
      ],
      "source": [
        "def dp_sum_capgain(epsilon):\n",
        "    eps_sum = epsilon - CLIPPING_EPSILON\n",
        "    return laplace_mech(adult['Capital Gain'].clip(lower=0, upper=CAPGAIN_UPPER_BOUND).sum(), CAPGAIN_UPPER_BOUND, eps_sum)\n",
        "\n",
        "dp_sum_capgain(2.0)"
      ]
    },
    {
      "cell_type": "code",
      "execution_count": 10,
      "metadata": {
        "deletable": false,
        "editable": false,
        "id": "VJFRaV7RNfM8",
        "nbgrader": {
          "cell_type": "code",
          "checksum": "ff9fcd394127b5d73aac00552e7e7ab4",
          "grade": true,
          "grade_id": "cell-e5b1229ba2249f71",
          "locked": true,
          "points": 10,
          "schema_version": 3,
          "solution": false,
          "task": false
        }
      },
      "outputs": [
        {
          "name": "stdout",
          "output_type": "stream",
          "text": [
            "Average errors: 0.274864215114566 0.034099707526153544 0.009036889452012843\n"
          ]
        }
      ],
      "source": [
        "# TEST CASES for question 3\n",
        "\n",
        "real_sum = adult['Capital Gain'].sum()\n",
        "r1 = np.mean([pct_error(real_sum, dp_sum_capgain(2.0)) for _ in range(100)])\n",
        "r2 = np.mean([pct_error(real_sum, dp_sum_capgain(10.0)) for _ in range(100)])\n",
        "r3 = np.mean([pct_error(real_sum, dp_sum_capgain(40.0)) for _ in range(100)])\n",
        "\n",
        "print(\"Average errors:\", r1, r2, r3)\n",
        "\n",
        "assert r1 > 0\n",
        "assert r2 > 0\n",
        "assert r3 > 0\n",
        "assert r1 < 0.5\n",
        "assert r2 < 0.05\n",
        "assert r3 < 0.01"
      ]
    },
    {
      "cell_type": "markdown",
      "metadata": {
        "id": "QVATxIL6NfM8"
      },
      "source": [
        "### Question 4 (10 points)\n",
        "\n",
        "In 2-5 sentences each, answer the following:\n",
        "\n",
        "- What was the sensitivity of the query you used in `dp_sum_capgain`, and how is it bounded?\n",
        "- Argue that your definition of `dp_sum_capgain` has a total privacy cost of `epsilon`\n",
        "- Is it necessary to do the sum again after computing the `CAPGAIN_UPPER_BOUND`? Can we do better?"
      ]
    },
    {
      "cell_type": "markdown",
      "metadata": {
        "deletable": false,
        "id": "ncobxRZLNfM9",
        "nbgrader": {
          "cell_type": "markdown",
          "checksum": "6cfdb579dfcf330b8e9e9cfd697fe494",
          "grade": true,
          "grade_id": "cell-986eec754f32c072",
          "locked": false,
          "points": 10,
          "schema_version": 3,
          "solution": true,
          "task": false
        }
      },
      "source": [
        "- ANSWER 1: La sensibilidad utilizada fue lo almacenado en la variable `CAPGAIN_UPPER_BOUND` (110000) ya que es el mayor valor considerado para el Capital Gain, por tanto es la máxima variación que se podría tener al considerar un elemento más en la suma.\n",
        "- ANSWER 2: Para el clipping se utiliza `CLIPPING_EPSILON`, luego para la suma se utiliza `epsilon_sum`. Como estas operaciones son sobre el mismo input, utilizamos composición secuencial. De esta forma el costo de privacidad total es la suma de ambos. En la función definida anteriormente, se puede observar que esta suma es `epsilon`.\n",
        "- ANSWER 3: Es necesario hacerlo luego del clipping ya que de no ser así, la sensibilidad sería mayor (posiblemente infinita al no estar acotado). Debido a esto el ruido necesario para garantizar privacidad sería mayor lo que genera una pérdida de uso en la información."
      ]
    },
    {
      "cell_type": "markdown",
      "metadata": {
        "id": "gg31ssK9NfM9"
      },
      "source": [
        "### Question 5 (10 points)\n",
        "\n",
        "Complete the definition of `dp_avg_capgain` below. Your definition should compute a differentially private average (mean) of the \"Capital Gain\" column of the adult dataset, and have a **total privacy cost of epsilon**.\n",
        "\n",
        "_Hint_: Use 10% of the privacy budget for computing the count, and the rest for the sum"
      ]
    },
    {
      "cell_type": "code",
      "execution_count": 106,
      "metadata": {
        "deletable": false,
        "id": "4xXM3MLMNfM9",
        "nbgrader": {
          "cell_type": "code",
          "checksum": "99b884a40ae754582e5d08c98abb1fda",
          "grade": false,
          "grade_id": "cell-93f2a5153dca0e95",
          "locked": false,
          "schema_version": 3,
          "solution": true,
          "task": false
        }
      },
      "outputs": [
        {
          "data": {
            "text/plain": [
              "np.float64(1092.1104961406172)"
            ]
          },
          "execution_count": 106,
          "metadata": {},
          "output_type": "execute_result"
        }
      ],
      "source": [
        "def dp_avg_capgain(epsilon):\n",
        "    count_CG = laplace_mech(len(adult['Capital Gain']), 1, 0.1 * epsilon)\n",
        "    sum_CG = dp_sum_capgain(0.9 * epsilon)\n",
        "    return sum_CG/count_CG\n",
        "dp_avg_capgain(2.0)"
      ]
    },
    {
      "cell_type": "code",
      "execution_count": 108,
      "metadata": {
        "deletable": false,
        "editable": false,
        "id": "FZRk7dQFNfM9",
        "nbgrader": {
          "cell_type": "code",
          "checksum": "f1b47ee125ecebaab842c8677f424806",
          "grade": true,
          "grade_id": "cell-ef77b325b5c58908",
          "locked": true,
          "points": 10,
          "schema_version": 3,
          "solution": false,
          "task": false
        }
      },
      "outputs": [
        {
          "name": "stdout",
          "output_type": "stream",
          "text": [
            "Average errors: 0.01638132767126032 0.0032986944118939066 0.0008428253032781606\n"
          ]
        }
      ],
      "source": [
        "# TEST CASE for question 5\n",
        "\n",
        "real_avg = adult['Capital Gain'].mean()\n",
        "r1 = np.mean([pct_error(real_avg, dp_avg_capgain(2.0)) for _ in range(100)])\n",
        "r2 = np.mean([pct_error(real_avg, dp_avg_capgain(10.0)) for _ in range(100)])\n",
        "r3 = np.mean([pct_error(real_avg, dp_avg_capgain(40.0)) for _ in range(100)])\n",
        "\n",
        "print(\"Average errors:\", r1, r2, r3)\n",
        "\n",
        "assert r1 > 0\n",
        "assert r2 > 0\n",
        "assert r3 > 0\n",
        "assert r1 < 0.5\n",
        "assert r2 < 0.05\n",
        "assert r3 < 0.01"
      ]
    },
    {
      "cell_type": "markdown",
      "metadata": {
        "id": "kldbBq-yNfM9"
      },
      "source": [
        "### Question 6 (10 points)\n",
        "\n",
        "In 2-5 sentences each, answer the following:\n",
        "\n",
        "- Argue that your definition of `dp_avg_capgain` has a total privacy cost of `epsilon`\n",
        "- For sums and averages, which seems to be more important for accuracy - the value of the clipping parameter $b$ or the scale of the noise added? Why?\n",
        "- Do you think the answer to the previous point will be true for every dataset? Why or why not?"
      ]
    },
    {
      "cell_type": "markdown",
      "metadata": {
        "deletable": false,
        "id": "xURSckbXNfM9",
        "nbgrader": {
          "cell_type": "markdown",
          "checksum": "1bdbfc10631a501c5a7fb556dd93b78b",
          "grade": true,
          "grade_id": "cell-7ea16016366529bd",
          "locked": false,
          "points": 10,
          "schema_version": 3,
          "solution": true,
          "task": false
        }
      },
      "source": [
        "- ANSWER 1: Como las operaciones se realizan sobre el mismo input, utilizamos composición secuencial por ende sumamos los epsilon utilizados (10% + 90% de epsilon).\n",
        "- ANSWER 2: Ambos puenden influir en la precisión, pero el parámetro de clipping puede influir más ya que es posible que al escoger una mala cota se pierda información importante.\n",
        "- ANSWER 3: No, en aquellos dataset que se tenga información adicional (o que los datos estén muy concentrados) de forma que los límites a considerar sean evidentes, una mayor precisión estará condicionada principalmente en la cantidad de ruido que se agregue."
      ]
    },
    {
      "cell_type": "markdown",
      "metadata": {
        "id": "u6eDvdsI-X7Z"
      },
      "source": [
        "### Question 7 (10 points)\n",
        "\n",
        "Write a function `dp_age_hist` that plots a histogram for the column Age where the count is performed in a differentially private manner. The histogram should show 10 bins.\n",
        "\n",
        "_Hint 1_: Do not use the function `.hist()` directly. Instead, compute the count for each bin, make it private, and the use `.plot(kind='bar')`\n",
        "\n",
        "_Hint 2_: You can use the parameter `bins=[n1, ..., n]` of the method `value_counts` to count the values of a column within bins of size 10, from 0 to 150"
      ]
    },
    {
      "cell_type": "code",
      "execution_count": 11,
      "metadata": {
        "id": "2PJixMT07K9X"
      },
      "outputs": [
        {
          "name": "stdout",
          "output_type": "stream",
          "text": [
            "\n"
          ]
        },
        {
          "data": {
            "image/png": "[encoded data removed]",
            "text/plain": [
              "<Figure size 640x480 with 1 Axes>"
            ]
          },
          "metadata": {},
          "output_type": "display_data"
        }
      ],
      "source": [
        "def dp_age_hist(epsilon):\n",
        "    vc_Age = adult['Age'].value_counts(bins=[i for i in range(0, 151, 10)])\n",
        "    print()\n",
        "    age_dp = []\n",
        "    for value in vc_Age.sort_index(): \n",
        "        age_dp.append(laplace_mech(value, 1, epsilon))\n",
        "    x = [f\"[{i}, {i+10})\" for i in range(0, 150, 10)]\n",
        "    x[-1] = '[140, 150]'\n",
        "    plt.xticks(rotation=90)\n",
        "    plt.bar(x, age_dp)\n",
        "\n",
        "dp_age_hist(1.0)"
      ]
    },
    {
      "cell_type": "markdown",
      "metadata": {
        "id": "J1rl5JP9_zDO"
      },
      "source": [
        "- Argue why your definition of `dp_age_hist` is `epsilon`-differential private\n",
        "- If we change the resulting negative values to zero, does the post-processed result still satisfy `epsilon`-differential private?"
      ]
    },
    {
      "cell_type": "markdown",
      "metadata": {
        "id": "usTNZ_5sAFEh"
      },
      "source": [
        "- ANSWER 1: Como los conjuntos utilizados son disjuntos, todos epsilon-diferencialmente privados utilizamos composición paralela, por tanto, dp_age_hist es epsilon-diferencialmente privado. En el conteo inicial, no se añadió privacidad diferencial. \n",
        "- ANSWER 2: Sí, ya que no es posible revertir la protección de privacidad otorgada por privacidad diferencial. Por lo tanto, se mantendría epsilon-diferencialmente privado."
      ]
    }
  ],
  "metadata": {
    "colab": {
      "provenance": []
    },
    "kernelspec": {
      "display_name": "cc5215",
      "language": "python",
      "name": "python3"
    },
    "language_info": {
      "codemirror_mode": {
        "name": "ipython",
        "version": 3
      },
      "file_extension": ".py",
      "mimetype": "text/x-python",
      "name": "python",
      "nbconvert_exporter": "python",
      "pygments_lexer": "ipython3",
      "version": "3.13.2"
    }
  },
  "nbformat": 4,
  "nbformat_minor": 0
}
